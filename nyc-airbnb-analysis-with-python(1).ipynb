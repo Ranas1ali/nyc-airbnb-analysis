{
 "cells": [
  {
   "cell_type": "markdown",
   "id": "816876cf",
   "metadata": {
    "papermill": {
     "duration": 0.012124,
     "end_time": "2024-07-13T15:48:10.429139",
     "exception": false,
     "start_time": "2024-07-13T15:48:10.417015",
     "status": "completed"
    },
    "tags": []
   },
   "source": [
    "# **Introduction**\n",
    "\n",
    "In this notebook I'm attembting to extract useful information from this dataset as a practice to my python skills, I'm making it public before it's finalized in order get feedback throughout the process so feel free to comment your thoughts :)\n",
    "\n",
    "**Objective**\n",
    "The objective of the analysis is to provide insights into Airbnb listings in New York City, focusing on host performance, room pricing and neighborhood trends."
   ]
  },
  {
   "cell_type": "markdown",
   "id": "9e783295",
   "metadata": {
    "papermill": {
     "duration": 0.011903,
     "end_time": "2024-07-13T15:48:10.453037",
     "exception": false,
     "start_time": "2024-07-13T15:48:10.441134",
     "status": "completed"
    },
    "tags": []
   },
   "source": [
    "# **Step 1: Importing Libraries**"
   ]
  },
  {
   "cell_type": "code",
   "execution_count": 1,
   "id": "820165ef",
   "metadata": {
    "execution": {
     "iopub.execute_input": "2024-07-13T15:48:10.478351Z",
     "iopub.status.busy": "2024-07-13T15:48:10.477956Z",
     "iopub.status.idle": "2024-07-13T15:48:13.255396Z",
     "shell.execute_reply": "2024-07-13T15:48:13.254490Z"
    },
    "papermill": {
     "duration": 2.793192,
     "end_time": "2024-07-13T15:48:13.257978",
     "exception": false,
     "start_time": "2024-07-13T15:48:10.464786",
     "status": "completed"
    },
    "tags": []
   },
   "outputs": [],
   "source": [
    "import numpy as np\n",
    "import pandas as pd\n",
    "import plotly.express as px\n",
    "import matplotlib.pyplot as plt\n",
    "import seaborn as sns"
   ]
  },
  {
   "cell_type": "markdown",
   "id": "916098f9",
   "metadata": {
    "papermill": {
     "duration": 0.011351,
     "end_time": "2024-07-13T15:48:13.281231",
     "exception": false,
     "start_time": "2024-07-13T15:48:13.269880",
     "status": "completed"
    },
    "tags": []
   },
   "source": [
    "# **Step 2: Loading the Dataset**"
   ]
  },
  {
   "cell_type": "code",
   "execution_count": 2,
   "id": "09e64bfd",
   "metadata": {
    "execution": {
     "iopub.execute_input": "2024-07-13T15:48:13.307134Z",
     "iopub.status.busy": "2024-07-13T15:48:13.306532Z",
     "iopub.status.idle": "2024-07-13T15:48:13.582308Z",
     "shell.execute_reply": "2024-07-13T15:48:13.581234Z"
    },
    "papermill": {
     "duration": 0.291019,
     "end_time": "2024-07-13T15:48:13.584670",
     "exception": false,
     "start_time": "2024-07-13T15:48:13.293651",
     "status": "completed"
    },
    "tags": []
   },
   "outputs": [],
   "source": [
    "df = pd.read_csv('/kaggle/input/new-york-city-airbnb-open-data/AB_NYC_2019.csv')"
   ]
  },
  {
   "cell_type": "markdown",
   "id": "5aafe27a",
   "metadata": {
    "papermill": {
     "duration": 0.011513,
     "end_time": "2024-07-13T15:48:13.608030",
     "exception": false,
     "start_time": "2024-07-13T15:48:13.596517",
     "status": "completed"
    },
    "tags": []
   },
   "source": [
    "# **Step 3: Data Exploration**"
   ]
  },
  {
   "cell_type": "code",
   "execution_count": 3,
   "id": "da36345b",
   "metadata": {
    "execution": {
     "iopub.execute_input": "2024-07-13T15:48:13.633457Z",
     "iopub.status.busy": "2024-07-13T15:48:13.633108Z",
     "iopub.status.idle": "2024-07-13T15:48:13.706489Z",
     "shell.execute_reply": "2024-07-13T15:48:13.705091Z"
    },
    "papermill": {
     "duration": 0.089272,
     "end_time": "2024-07-13T15:48:13.709058",
     "exception": false,
     "start_time": "2024-07-13T15:48:13.619786",
     "status": "completed"
    },
    "tags": []
   },
   "outputs": [
    {
     "name": "stdout",
     "output_type": "stream",
     "text": [
      "Number of rows = 48895\n",
      "\n",
      "Number of features = 16\n",
      "\n",
      "Data features = ['id', 'name', 'host_id', 'host_name', 'neighbourhood_group', 'neighbourhood', 'latitude', 'longitude', 'room_type', 'price', 'minimum_nights', 'number_of_reviews', 'last_review', 'reviews_per_month', 'calculated_host_listings_count', 'availability_365']\n",
      "\n",
      "Missing values = 20141\n",
      "\n",
      "unique values = id                                48895\n",
      "name                              47905\n",
      "host_id                           37457\n",
      "host_name                         11452\n",
      "neighbourhood_group                   5\n",
      "neighbourhood                       221\n",
      "latitude                          19048\n",
      "longitude                         14718\n",
      "room_type                             3\n",
      "price                               674\n",
      "minimum_nights                      109\n",
      "number_of_reviews                   394\n",
      "last_review                        1764\n",
      "reviews_per_month                   937\n",
      "calculated_host_listings_count       47\n",
      "availability_365                    366\n",
      "dtype: int64\n"
     ]
    }
   ],
   "source": [
    "print(\"Number of rows =\", df.shape[0])\n",
    "print(\"\\nNumber of features =\", df.shape[1])\n",
    "print(\"\\nData features =\",df.columns.tolist())\n",
    "print(\"\\nMissing values =\", df.isnull().sum().values.sum())\n",
    "print(\"\\nunique values =\", df.nunique())"
   ]
  },
  {
   "cell_type": "markdown",
   "id": "0a3c22da",
   "metadata": {
    "papermill": {
     "duration": 0.011525,
     "end_time": "2024-07-13T15:48:13.732634",
     "exception": false,
     "start_time": "2024-07-13T15:48:13.721109",
     "status": "completed"
    },
    "tags": []
   },
   "source": [
    "Okay the number of missing values is a bit concerning so let's take a closer look at that"
   ]
  },
  {
   "cell_type": "markdown",
   "id": "e03af77a",
   "metadata": {
    "papermill": {
     "duration": 0.011456,
     "end_time": "2024-07-13T15:48:13.755929",
     "exception": false,
     "start_time": "2024-07-13T15:48:13.744473",
     "status": "completed"
    },
    "tags": []
   },
   "source": [
    "# **Step 4: Data Cleaning**"
   ]
  },
  {
   "cell_type": "code",
   "execution_count": 4,
   "id": "dd85c5ed",
   "metadata": {
    "execution": {
     "iopub.execute_input": "2024-07-13T15:48:13.781048Z",
     "iopub.status.busy": "2024-07-13T15:48:13.780620Z",
     "iopub.status.idle": "2024-07-13T15:48:13.807838Z",
     "shell.execute_reply": "2024-07-13T15:48:13.806800Z"
    },
    "papermill": {
     "duration": 0.042688,
     "end_time": "2024-07-13T15:48:13.810312",
     "exception": false,
     "start_time": "2024-07-13T15:48:13.767624",
     "status": "completed"
    },
    "tags": []
   },
   "outputs": [
    {
     "data": {
      "text/plain": [
       "id                                False\n",
       "name                               True\n",
       "host_id                           False\n",
       "host_name                          True\n",
       "neighbourhood_group               False\n",
       "neighbourhood                     False\n",
       "latitude                          False\n",
       "longitude                         False\n",
       "room_type                         False\n",
       "price                             False\n",
       "minimum_nights                    False\n",
       "number_of_reviews                 False\n",
       "last_review                        True\n",
       "reviews_per_month                  True\n",
       "calculated_host_listings_count    False\n",
       "availability_365                  False\n",
       "dtype: bool"
      ]
     },
     "execution_count": 4,
     "metadata": {},
     "output_type": "execute_result"
    }
   ],
   "source": [
    "df.isnull().any()"
   ]
  },
  {
   "cell_type": "markdown",
   "id": "ee659230",
   "metadata": {
    "papermill": {
     "duration": 0.012927,
     "end_time": "2024-07-13T15:48:13.835304",
     "exception": false,
     "start_time": "2024-07-13T15:48:13.822377",
     "status": "completed"
    },
    "tags": []
   },
   "source": [
    "So the columns with null values are name, host name, last review and reviews per month, now i want to see how many null values are in each of these columns."
   ]
  },
  {
   "cell_type": "code",
   "execution_count": 5,
   "id": "c9c94a56",
   "metadata": {
    "execution": {
     "iopub.execute_input": "2024-07-13T15:48:13.861607Z",
     "iopub.status.busy": "2024-07-13T15:48:13.861252Z",
     "iopub.status.idle": "2024-07-13T15:48:13.884991Z",
     "shell.execute_reply": "2024-07-13T15:48:13.883887Z"
    },
    "papermill": {
     "duration": 0.039861,
     "end_time": "2024-07-13T15:48:13.887543",
     "exception": false,
     "start_time": "2024-07-13T15:48:13.847682",
     "status": "completed"
    },
    "tags": []
   },
   "outputs": [
    {
     "data": {
      "text/plain": [
       "id                                    0\n",
       "name                                 16\n",
       "host_id                               0\n",
       "host_name                            21\n",
       "neighbourhood_group                   0\n",
       "neighbourhood                         0\n",
       "latitude                              0\n",
       "longitude                             0\n",
       "room_type                             0\n",
       "price                                 0\n",
       "minimum_nights                        0\n",
       "number_of_reviews                     0\n",
       "last_review                       10052\n",
       "reviews_per_month                 10052\n",
       "calculated_host_listings_count        0\n",
       "availability_365                      0\n",
       "dtype: int64"
      ]
     },
     "execution_count": 5,
     "metadata": {},
     "output_type": "execute_result"
    }
   ],
   "source": [
    "df.isnull().sum()"
   ]
  },
  {
   "cell_type": "markdown",
   "id": "5a0158fe",
   "metadata": {
    "papermill": {
     "duration": 0.012113,
     "end_time": "2024-07-13T15:48:13.912460",
     "exception": false,
     "start_time": "2024-07-13T15:48:13.900347",
     "status": "completed"
    },
    "tags": []
   },
   "source": [
    "The reviews columns doesn't show much potential here almost 1/4 of the data there is missing so now we need to decide what to do with it. and in my humble opinion I can fill the null values with 'null' or `interpolate()` but from previous projects I have learned that if the data amount is sufficient and there is no way i can find an appropriate value to fill the missing places with then it's better to just drop them and work with a sample instead."
   ]
  },
  {
   "cell_type": "code",
   "execution_count": 6,
   "id": "af3fba6a",
   "metadata": {
    "execution": {
     "iopub.execute_input": "2024-07-13T15:48:13.938379Z",
     "iopub.status.busy": "2024-07-13T15:48:13.938014Z",
     "iopub.status.idle": "2024-07-13T15:48:13.960639Z",
     "shell.execute_reply": "2024-07-13T15:48:13.959484Z"
    },
    "papermill": {
     "duration": 0.038428,
     "end_time": "2024-07-13T15:48:13.963200",
     "exception": false,
     "start_time": "2024-07-13T15:48:13.924772",
     "status": "completed"
    },
    "tags": []
   },
   "outputs": [
    {
     "name": "stdout",
     "output_type": "stream",
     "text": [
      "Original number of rows: 48895\n",
      "Number of rows after dropping nulls: 38843\n"
     ]
    }
   ],
   "source": [
    "df_filtered = df.dropna(subset=['last_review','reviews_per_month'])\n",
    "df_filtered.reset_index(drop=True, inplace=True)\n",
    "\n",
    "print(f\"Original number of rows: {len(df)}\")\n",
    "print(f\"Number of rows after dropping nulls: {len(df_filtered)}\")"
   ]
  },
  {
   "cell_type": "markdown",
   "id": "4ec5102b",
   "metadata": {
    "papermill": {
     "duration": 0.011716,
     "end_time": "2024-07-13T15:48:13.987110",
     "exception": false,
     "start_time": "2024-07-13T15:48:13.975394",
     "status": "completed"
    },
    "tags": []
   },
   "source": [
    "Now i want to check how the column price looks like, to see if there is any misprepresented data, for example the value 0 shouldn't be considered since 0 is not a real value here."
   ]
  },
  {
   "cell_type": "code",
   "execution_count": 7,
   "id": "aa7ccc1e",
   "metadata": {
    "execution": {
     "iopub.execute_input": "2024-07-13T15:48:14.013310Z",
     "iopub.status.busy": "2024-07-13T15:48:14.012381Z",
     "iopub.status.idle": "2024-07-13T15:48:14.018848Z",
     "shell.execute_reply": "2024-07-13T15:48:14.017800Z"
    },
    "papermill": {
     "duration": 0.021848,
     "end_time": "2024-07-13T15:48:14.021087",
     "exception": false,
     "start_time": "2024-07-13T15:48:13.999239",
     "status": "completed"
    },
    "tags": []
   },
   "outputs": [
    {
     "name": "stdout",
     "output_type": "stream",
     "text": [
      "\n",
      "Number of zero values in the 'price' column: 10\n"
     ]
    }
   ],
   "source": [
    "zero_price_count = (df_filtered['price'] == 0).sum()\n",
    "\n",
    "print(f\"\\nNumber of zero values in the 'price' column: {zero_price_count}\")"
   ]
  },
  {
   "cell_type": "markdown",
   "id": "c484ba8e",
   "metadata": {
    "papermill": {
     "duration": 0.012074,
     "end_time": "2024-07-13T15:48:14.046053",
     "exception": false,
     "start_time": "2024-07-13T15:48:14.033979",
     "status": "completed"
    },
    "tags": []
   },
   "source": [
    "There is a small possibility that 0 is an offer value or something but again they are just 10 rows out of 38843 so I believe it's safe to drop"
   ]
  },
  {
   "cell_type": "code",
   "execution_count": 8,
   "id": "de936d5f",
   "metadata": {
    "execution": {
     "iopub.execute_input": "2024-07-13T15:48:14.072929Z",
     "iopub.status.busy": "2024-07-13T15:48:14.072454Z",
     "iopub.status.idle": "2024-07-13T15:48:14.085574Z",
     "shell.execute_reply": "2024-07-13T15:48:14.084336Z"
    },
    "papermill": {
     "duration": 0.02894,
     "end_time": "2024-07-13T15:48:14.087832",
     "exception": false,
     "start_time": "2024-07-13T15:48:14.058892",
     "status": "completed"
    },
    "tags": []
   },
   "outputs": [
    {
     "name": "stdout",
     "output_type": "stream",
     "text": [
      "Original number of rows: 48895\n",
      "Number of rows after dropping zero values in price: 38833\n"
     ]
    }
   ],
   "source": [
    "df_filtered = df_filtered[df_filtered['price'] != 0]\n",
    "\n",
    "print(f\"Original number of rows: {len(df)}\")\n",
    "print(f\"Number of rows after dropping zero values in price: {len(df_filtered)}\")"
   ]
  },
  {
   "cell_type": "code",
   "execution_count": 9,
   "id": "1693efdb",
   "metadata": {
    "execution": {
     "iopub.execute_input": "2024-07-13T15:48:14.114437Z",
     "iopub.status.busy": "2024-07-13T15:48:14.114066Z",
     "iopub.status.idle": "2024-07-13T15:48:14.144237Z",
     "shell.execute_reply": "2024-07-13T15:48:14.142956Z"
    },
    "papermill": {
     "duration": 0.046388,
     "end_time": "2024-07-13T15:48:14.146800",
     "exception": false,
     "start_time": "2024-07-13T15:48:14.100412",
     "status": "completed"
    },
    "tags": []
   },
   "outputs": [
    {
     "name": "stdout",
     "output_type": "stream",
     "text": [
      "<class 'pandas.core.frame.DataFrame'>\n",
      "Index: 38833 entries, 0 to 38842\n",
      "Data columns (total 16 columns):\n",
      " #   Column                          Non-Null Count  Dtype  \n",
      "---  ------                          --------------  -----  \n",
      " 0   id                              38833 non-null  int64  \n",
      " 1   name                            38827 non-null  object \n",
      " 2   host_id                         38833 non-null  int64  \n",
      " 3   host_name                       38817 non-null  object \n",
      " 4   neighbourhood_group             38833 non-null  object \n",
      " 5   neighbourhood                   38833 non-null  object \n",
      " 6   latitude                        38833 non-null  float64\n",
      " 7   longitude                       38833 non-null  float64\n",
      " 8   room_type                       38833 non-null  object \n",
      " 9   price                           38833 non-null  int64  \n",
      " 10  minimum_nights                  38833 non-null  int64  \n",
      " 11  number_of_reviews               38833 non-null  int64  \n",
      " 12  last_review                     38833 non-null  object \n",
      " 13  reviews_per_month               38833 non-null  float64\n",
      " 14  calculated_host_listings_count  38833 non-null  int64  \n",
      " 15  availability_365                38833 non-null  int64  \n",
      "dtypes: float64(3), int64(7), object(6)\n",
      "memory usage: 5.0+ MB\n"
     ]
    }
   ],
   "source": [
    "df_filtered.info()"
   ]
  },
  {
   "cell_type": "markdown",
   "id": "9a328140",
   "metadata": {
    "papermill": {
     "duration": 0.012081,
     "end_time": "2024-07-13T15:48:14.171959",
     "exception": false,
     "start_time": "2024-07-13T15:48:14.159878",
     "status": "completed"
    },
    "tags": []
   },
   "source": [
    "Ok so what is this info telling us?\n",
    "\n",
    "We have 38833 entries and our key columns 0 and 2 both are full with no duplicates. Also, our data types are in place except the last_review column so we might need to change this later. \n",
    "\n",
    "now let's a look at a few rows."
   ]
  },
  {
   "cell_type": "code",
   "execution_count": 10,
   "id": "8bed3505",
   "metadata": {
    "execution": {
     "iopub.execute_input": "2024-07-13T15:48:14.198543Z",
     "iopub.status.busy": "2024-07-13T15:48:14.198177Z",
     "iopub.status.idle": "2024-07-13T15:48:14.224774Z",
     "shell.execute_reply": "2024-07-13T15:48:14.223236Z"
    },
    "papermill": {
     "duration": 0.042903,
     "end_time": "2024-07-13T15:48:14.227399",
     "exception": false,
     "start_time": "2024-07-13T15:48:14.184496",
     "status": "completed"
    },
    "tags": []
   },
   "outputs": [
    {
     "data": {
      "text/html": [
       "<div>\n",
       "<style scoped>\n",
       "    .dataframe tbody tr th:only-of-type {\n",
       "        vertical-align: middle;\n",
       "    }\n",
       "\n",
       "    .dataframe tbody tr th {\n",
       "        vertical-align: top;\n",
       "    }\n",
       "\n",
       "    .dataframe thead th {\n",
       "        text-align: right;\n",
       "    }\n",
       "</style>\n",
       "<table border=\"1\" class=\"dataframe\">\n",
       "  <thead>\n",
       "    <tr style=\"text-align: right;\">\n",
       "      <th></th>\n",
       "      <th>id</th>\n",
       "      <th>name</th>\n",
       "      <th>host_id</th>\n",
       "      <th>host_name</th>\n",
       "      <th>neighbourhood_group</th>\n",
       "      <th>neighbourhood</th>\n",
       "      <th>latitude</th>\n",
       "      <th>longitude</th>\n",
       "      <th>room_type</th>\n",
       "      <th>price</th>\n",
       "      <th>minimum_nights</th>\n",
       "      <th>number_of_reviews</th>\n",
       "      <th>last_review</th>\n",
       "      <th>reviews_per_month</th>\n",
       "      <th>calculated_host_listings_count</th>\n",
       "      <th>availability_365</th>\n",
       "    </tr>\n",
       "  </thead>\n",
       "  <tbody>\n",
       "    <tr>\n",
       "      <th>0</th>\n",
       "      <td>2539</td>\n",
       "      <td>Clean &amp; quiet apt home by the park</td>\n",
       "      <td>2787</td>\n",
       "      <td>John</td>\n",
       "      <td>Brooklyn</td>\n",
       "      <td>Kensington</td>\n",
       "      <td>40.64749</td>\n",
       "      <td>-73.97237</td>\n",
       "      <td>Private room</td>\n",
       "      <td>149</td>\n",
       "      <td>1</td>\n",
       "      <td>9</td>\n",
       "      <td>2018-10-19</td>\n",
       "      <td>0.21</td>\n",
       "      <td>6</td>\n",
       "      <td>365</td>\n",
       "    </tr>\n",
       "    <tr>\n",
       "      <th>1</th>\n",
       "      <td>2595</td>\n",
       "      <td>Skylit Midtown Castle</td>\n",
       "      <td>2845</td>\n",
       "      <td>Jennifer</td>\n",
       "      <td>Manhattan</td>\n",
       "      <td>Midtown</td>\n",
       "      <td>40.75362</td>\n",
       "      <td>-73.98377</td>\n",
       "      <td>Entire home/apt</td>\n",
       "      <td>225</td>\n",
       "      <td>1</td>\n",
       "      <td>45</td>\n",
       "      <td>2019-05-21</td>\n",
       "      <td>0.38</td>\n",
       "      <td>2</td>\n",
       "      <td>355</td>\n",
       "    </tr>\n",
       "    <tr>\n",
       "      <th>2</th>\n",
       "      <td>3831</td>\n",
       "      <td>Cozy Entire Floor of Brownstone</td>\n",
       "      <td>4869</td>\n",
       "      <td>LisaRoxanne</td>\n",
       "      <td>Brooklyn</td>\n",
       "      <td>Clinton Hill</td>\n",
       "      <td>40.68514</td>\n",
       "      <td>-73.95976</td>\n",
       "      <td>Entire home/apt</td>\n",
       "      <td>89</td>\n",
       "      <td>1</td>\n",
       "      <td>270</td>\n",
       "      <td>2019-07-05</td>\n",
       "      <td>4.64</td>\n",
       "      <td>1</td>\n",
       "      <td>194</td>\n",
       "    </tr>\n",
       "    <tr>\n",
       "      <th>3</th>\n",
       "      <td>5022</td>\n",
       "      <td>Entire Apt: Spacious Studio/Loft by central park</td>\n",
       "      <td>7192</td>\n",
       "      <td>Laura</td>\n",
       "      <td>Manhattan</td>\n",
       "      <td>East Harlem</td>\n",
       "      <td>40.79851</td>\n",
       "      <td>-73.94399</td>\n",
       "      <td>Entire home/apt</td>\n",
       "      <td>80</td>\n",
       "      <td>10</td>\n",
       "      <td>9</td>\n",
       "      <td>2018-11-19</td>\n",
       "      <td>0.10</td>\n",
       "      <td>1</td>\n",
       "      <td>0</td>\n",
       "    </tr>\n",
       "    <tr>\n",
       "      <th>4</th>\n",
       "      <td>5099</td>\n",
       "      <td>Large Cozy 1 BR Apartment In Midtown East</td>\n",
       "      <td>7322</td>\n",
       "      <td>Chris</td>\n",
       "      <td>Manhattan</td>\n",
       "      <td>Murray Hill</td>\n",
       "      <td>40.74767</td>\n",
       "      <td>-73.97500</td>\n",
       "      <td>Entire home/apt</td>\n",
       "      <td>200</td>\n",
       "      <td>3</td>\n",
       "      <td>74</td>\n",
       "      <td>2019-06-22</td>\n",
       "      <td>0.59</td>\n",
       "      <td>1</td>\n",
       "      <td>129</td>\n",
       "    </tr>\n",
       "    <tr>\n",
       "      <th>5</th>\n",
       "      <td>5121</td>\n",
       "      <td>BlissArtsSpace!</td>\n",
       "      <td>7356</td>\n",
       "      <td>Garon</td>\n",
       "      <td>Brooklyn</td>\n",
       "      <td>Bedford-Stuyvesant</td>\n",
       "      <td>40.68688</td>\n",
       "      <td>-73.95596</td>\n",
       "      <td>Private room</td>\n",
       "      <td>60</td>\n",
       "      <td>45</td>\n",
       "      <td>49</td>\n",
       "      <td>2017-10-05</td>\n",
       "      <td>0.40</td>\n",
       "      <td>1</td>\n",
       "      <td>0</td>\n",
       "    </tr>\n",
       "    <tr>\n",
       "      <th>6</th>\n",
       "      <td>5178</td>\n",
       "      <td>Large Furnished Room Near B'way</td>\n",
       "      <td>8967</td>\n",
       "      <td>Shunichi</td>\n",
       "      <td>Manhattan</td>\n",
       "      <td>Hell's Kitchen</td>\n",
       "      <td>40.76489</td>\n",
       "      <td>-73.98493</td>\n",
       "      <td>Private room</td>\n",
       "      <td>79</td>\n",
       "      <td>2</td>\n",
       "      <td>430</td>\n",
       "      <td>2019-06-24</td>\n",
       "      <td>3.47</td>\n",
       "      <td>1</td>\n",
       "      <td>220</td>\n",
       "    </tr>\n",
       "  </tbody>\n",
       "</table>\n",
       "</div>"
      ],
      "text/plain": [
       "     id                                              name  host_id  \\\n",
       "0  2539                Clean & quiet apt home by the park     2787   \n",
       "1  2595                             Skylit Midtown Castle     2845   \n",
       "2  3831                   Cozy Entire Floor of Brownstone     4869   \n",
       "3  5022  Entire Apt: Spacious Studio/Loft by central park     7192   \n",
       "4  5099         Large Cozy 1 BR Apartment In Midtown East     7322   \n",
       "5  5121                                   BlissArtsSpace!     7356   \n",
       "6  5178                  Large Furnished Room Near B'way      8967   \n",
       "\n",
       "     host_name neighbourhood_group       neighbourhood  latitude  longitude  \\\n",
       "0         John            Brooklyn          Kensington  40.64749  -73.97237   \n",
       "1     Jennifer           Manhattan             Midtown  40.75362  -73.98377   \n",
       "2  LisaRoxanne            Brooklyn        Clinton Hill  40.68514  -73.95976   \n",
       "3        Laura           Manhattan         East Harlem  40.79851  -73.94399   \n",
       "4        Chris           Manhattan         Murray Hill  40.74767  -73.97500   \n",
       "5        Garon            Brooklyn  Bedford-Stuyvesant  40.68688  -73.95596   \n",
       "6     Shunichi           Manhattan      Hell's Kitchen  40.76489  -73.98493   \n",
       "\n",
       "         room_type  price  minimum_nights  number_of_reviews last_review  \\\n",
       "0     Private room    149               1                  9  2018-10-19   \n",
       "1  Entire home/apt    225               1                 45  2019-05-21   \n",
       "2  Entire home/apt     89               1                270  2019-07-05   \n",
       "3  Entire home/apt     80              10                  9  2018-11-19   \n",
       "4  Entire home/apt    200               3                 74  2019-06-22   \n",
       "5     Private room     60              45                 49  2017-10-05   \n",
       "6     Private room     79               2                430  2019-06-24   \n",
       "\n",
       "   reviews_per_month  calculated_host_listings_count  availability_365  \n",
       "0               0.21                               6               365  \n",
       "1               0.38                               2               355  \n",
       "2               4.64                               1               194  \n",
       "3               0.10                               1                 0  \n",
       "4               0.59                               1               129  \n",
       "5               0.40                               1                 0  \n",
       "6               3.47                               1               220  "
      ]
     },
     "execution_count": 10,
     "metadata": {},
     "output_type": "execute_result"
    }
   ],
   "source": [
    "df_filtered.head(7) #i always use 7 just because"
   ]
  },
  {
   "cell_type": "markdown",
   "id": "8fa03d43",
   "metadata": {
    "papermill": {
     "duration": 0.012347,
     "end_time": "2024-07-13T15:48:14.252698",
     "exception": false,
     "start_time": "2024-07-13T15:48:14.240351",
     "status": "completed"
    },
    "tags": []
   },
   "source": [
    "Alright then i guess it's time to create a correlation matrix to help lead our analytical thinking."
   ]
  },
  {
   "cell_type": "markdown",
   "id": "99ab4b50",
   "metadata": {
    "papermill": {
     "duration": 0.06986,
     "end_time": "2024-07-13T15:48:14.335308",
     "exception": false,
     "start_time": "2024-07-13T15:48:14.265448",
     "status": "completed"
    },
    "tags": []
   },
   "source": [
    "# **Step 5: Exploratory Data Analysis (EDA)**"
   ]
  },
  {
   "cell_type": "code",
   "execution_count": 11,
   "id": "572fbc1b",
   "metadata": {
    "execution": {
     "iopub.execute_input": "2024-07-13T15:48:14.362942Z",
     "iopub.status.busy": "2024-07-13T15:48:14.362537Z",
     "iopub.status.idle": "2024-07-13T15:48:16.307285Z",
     "shell.execute_reply": "2024-07-13T15:48:16.305997Z"
    },
    "papermill": {
     "duration": 1.961273,
     "end_time": "2024-07-13T15:48:16.309755",
     "exception": false,
     "start_time": "2024-07-13T15:48:14.348482",
     "status": "completed"
    },
    "tags": []
   },
   "outputs": [
    {
     "data": {
      "text/html": [
       "        <script type=\"text/javascript\">\n",
       "        window.PlotlyConfig = {MathJaxConfig: 'local'};\n",
       "        if (window.MathJax && window.MathJax.Hub && window.MathJax.Hub.Config) {window.MathJax.Hub.Config({SVG: {font: \"STIX-Web\"}});}\n",
       "        if (typeof require !== 'undefined') {\n",
       "        require.undef(\"plotly\");\n",
       "        requirejs.config({\n",
       "            paths: {\n",
       "                'plotly': ['https://cdn.plot.ly/plotly-2.27.0.min']\n",
       "            }\n",
       "        });\n",
       "        require(['plotly'], function(Plotly) {\n",
       "            window._Plotly = Plotly;\n",
       "        });\n",
       "        }\n",
       "        </script>\n",
       "        "
      ]
     },
     "metadata": {},
     "output_type": "display_data"
    },
    {
     "data": {
      "text/html": [
       "<div>                            <div id=\"ec9911d2-5489-43d0-a339-dfec63518ec2\" class=\"plotly-graph-div\" style=\"height:1000px; width:1000px;\"></div>            <script type=\"text/javascript\">                require([\"plotly\"], function(Plotly) {                    window.PLOTLYENV=window.PLOTLYENV || {};                                    if (document.getElementById(\"ec9911d2-5489-43d0-a339-dfec63518ec2\")) {                    Plotly.newPlot(                        \"ec9911d2-5489-43d0-a339-dfec63518ec2\",                        [{\"coloraxis\":\"coloraxis\",\"name\":\"0\",\"texttemplate\":\"%{z}\",\"x\":[\"id\",\"host_id\",\"price\",\"minimum_nights\",\"number_of_reviews\",\"reviews_per_month\",\"calculated_host_listings_count\",\"availability_365\"],\"y\":[\"id\",\"host_id\",\"price\",\"minimum_nights\",\"number_of_reviews\",\"reviews_per_month\",\"calculated_host_listings_count\",\"availability_365\"],\"z\":[[1.0,0.591557450170511,-0.006604583954797996,-0.07391826770380597,-0.32990898934349616,0.2918622225116442,0.0984840037752891,0.006415756572682307],[0.591557450170511,1.0,0.006267440650430044,-0.05173343488097088,-0.14190101363281554,0.2963948463235512,0.14941205127960228,0.1550079626159674],[-0.006604583954797996,0.006267440650430044,1.0,0.025529563784013876,-0.035911429681942796,-0.030574988868898898,0.052902766551447336,0.07827168460597818],[-0.07391826770380597,-0.05173343488097088,0.025529563784013876,1.0,-0.06931346016447554,-0.12164379926881717,0.07348012153545119,0.10163725608153064],[-0.32990898934349616,-0.14190101363281554,-0.035911429681942796,-0.06931346016447554,1.0,0.5497633217832101,-0.059795835763678015,0.19351095226362136],[0.2918622225116442,0.2963948463235512,-0.030574988868898898,-0.12164379926881717,0.5497633217832101,1.0,-0.009430514194291152,0.18573033206788572],[0.0984840037752891,0.14941205127960228,0.052902766551447336,0.07348012153545119,-0.059795835763678015,-0.009430514194291152,1.0,0.18291873440833006],[0.006415756572682307,0.1550079626159674,0.07827168460597818,0.10163725608153064,0.19351095226362136,0.18573033206788572,0.18291873440833006,1.0]],\"type\":\"heatmap\",\"xaxis\":\"x\",\"yaxis\":\"y\",\"hovertemplate\":\"x: %{x}\\u003cbr\\u003ey: %{y}\\u003cbr\\u003ecolor: %{z}\\u003cextra\\u003e\\u003c\\u002fextra\\u003e\"}],                        {\"template\":{\"data\":{\"histogram2dcontour\":[{\"type\":\"histogram2dcontour\",\"colorbar\":{\"outlinewidth\":0,\"ticks\":\"\"},\"colorscale\":[[0.0,\"#0d0887\"],[0.1111111111111111,\"#46039f\"],[0.2222222222222222,\"#7201a8\"],[0.3333333333333333,\"#9c179e\"],[0.4444444444444444,\"#bd3786\"],[0.5555555555555556,\"#d8576b\"],[0.6666666666666666,\"#ed7953\"],[0.7777777777777778,\"#fb9f3a\"],[0.8888888888888888,\"#fdca26\"],[1.0,\"#f0f921\"]]}],\"choropleth\":[{\"type\":\"choropleth\",\"colorbar\":{\"outlinewidth\":0,\"ticks\":\"\"}}],\"histogram2d\":[{\"type\":\"histogram2d\",\"colorbar\":{\"outlinewidth\":0,\"ticks\":\"\"},\"colorscale\":[[0.0,\"#0d0887\"],[0.1111111111111111,\"#46039f\"],[0.2222222222222222,\"#7201a8\"],[0.3333333333333333,\"#9c179e\"],[0.4444444444444444,\"#bd3786\"],[0.5555555555555556,\"#d8576b\"],[0.6666666666666666,\"#ed7953\"],[0.7777777777777778,\"#fb9f3a\"],[0.8888888888888888,\"#fdca26\"],[1.0,\"#f0f921\"]]}],\"heatmap\":[{\"type\":\"heatmap\",\"colorbar\":{\"outlinewidth\":0,\"ticks\":\"\"},\"colorscale\":[[0.0,\"#0d0887\"],[0.1111111111111111,\"#46039f\"],[0.2222222222222222,\"#7201a8\"],[0.3333333333333333,\"#9c179e\"],[0.4444444444444444,\"#bd3786\"],[0.5555555555555556,\"#d8576b\"],[0.6666666666666666,\"#ed7953\"],[0.7777777777777778,\"#fb9f3a\"],[0.8888888888888888,\"#fdca26\"],[1.0,\"#f0f921\"]]}],\"heatmapgl\":[{\"type\":\"heatmapgl\",\"colorbar\":{\"outlinewidth\":0,\"ticks\":\"\"},\"colorscale\":[[0.0,\"#0d0887\"],[0.1111111111111111,\"#46039f\"],[0.2222222222222222,\"#7201a8\"],[0.3333333333333333,\"#9c179e\"],[0.4444444444444444,\"#bd3786\"],[0.5555555555555556,\"#d8576b\"],[0.6666666666666666,\"#ed7953\"],[0.7777777777777778,\"#fb9f3a\"],[0.8888888888888888,\"#fdca26\"],[1.0,\"#f0f921\"]]}],\"contourcarpet\":[{\"type\":\"contourcarpet\",\"colorbar\":{\"outlinewidth\":0,\"ticks\":\"\"}}],\"contour\":[{\"type\":\"contour\",\"colorbar\":{\"outlinewidth\":0,\"ticks\":\"\"},\"colorscale\":[[0.0,\"#0d0887\"],[0.1111111111111111,\"#46039f\"],[0.2222222222222222,\"#7201a8\"],[0.3333333333333333,\"#9c179e\"],[0.4444444444444444,\"#bd3786\"],[0.5555555555555556,\"#d8576b\"],[0.6666666666666666,\"#ed7953\"],[0.7777777777777778,\"#fb9f3a\"],[0.8888888888888888,\"#fdca26\"],[1.0,\"#f0f921\"]]}],\"surface\":[{\"type\":\"surface\",\"colorbar\":{\"outlinewidth\":0,\"ticks\":\"\"},\"colorscale\":[[0.0,\"#0d0887\"],[0.1111111111111111,\"#46039f\"],[0.2222222222222222,\"#7201a8\"],[0.3333333333333333,\"#9c179e\"],[0.4444444444444444,\"#bd3786\"],[0.5555555555555556,\"#d8576b\"],[0.6666666666666666,\"#ed7953\"],[0.7777777777777778,\"#fb9f3a\"],[0.8888888888888888,\"#fdca26\"],[1.0,\"#f0f921\"]]}],\"mesh3d\":[{\"type\":\"mesh3d\",\"colorbar\":{\"outlinewidth\":0,\"ticks\":\"\"}}],\"scatter\":[{\"fillpattern\":{\"fillmode\":\"overlay\",\"size\":10,\"solidity\":0.2},\"type\":\"scatter\"}],\"parcoords\":[{\"type\":\"parcoords\",\"line\":{\"colorbar\":{\"outlinewidth\":0,\"ticks\":\"\"}}}],\"scatterpolargl\":[{\"type\":\"scatterpolargl\",\"marker\":{\"colorbar\":{\"outlinewidth\":0,\"ticks\":\"\"}}}],\"bar\":[{\"error_x\":{\"color\":\"#2a3f5f\"},\"error_y\":{\"color\":\"#2a3f5f\"},\"marker\":{\"line\":{\"color\":\"#E5ECF6\",\"width\":0.5},\"pattern\":{\"fillmode\":\"overlay\",\"size\":10,\"solidity\":0.2}},\"type\":\"bar\"}],\"scattergeo\":[{\"type\":\"scattergeo\",\"marker\":{\"colorbar\":{\"outlinewidth\":0,\"ticks\":\"\"}}}],\"scatterpolar\":[{\"type\":\"scatterpolar\",\"marker\":{\"colorbar\":{\"outlinewidth\":0,\"ticks\":\"\"}}}],\"histogram\":[{\"marker\":{\"pattern\":{\"fillmode\":\"overlay\",\"size\":10,\"solidity\":0.2}},\"type\":\"histogram\"}],\"scattergl\":[{\"type\":\"scattergl\",\"marker\":{\"colorbar\":{\"outlinewidth\":0,\"ticks\":\"\"}}}],\"scatter3d\":[{\"type\":\"scatter3d\",\"line\":{\"colorbar\":{\"outlinewidth\":0,\"ticks\":\"\"}},\"marker\":{\"colorbar\":{\"outlinewidth\":0,\"ticks\":\"\"}}}],\"scattermapbox\":[{\"type\":\"scattermapbox\",\"marker\":{\"colorbar\":{\"outlinewidth\":0,\"ticks\":\"\"}}}],\"scatterternary\":[{\"type\":\"scatterternary\",\"marker\":{\"colorbar\":{\"outlinewidth\":0,\"ticks\":\"\"}}}],\"scattercarpet\":[{\"type\":\"scattercarpet\",\"marker\":{\"colorbar\":{\"outlinewidth\":0,\"ticks\":\"\"}}}],\"carpet\":[{\"aaxis\":{\"endlinecolor\":\"#2a3f5f\",\"gridcolor\":\"white\",\"linecolor\":\"white\",\"minorgridcolor\":\"white\",\"startlinecolor\":\"#2a3f5f\"},\"baxis\":{\"endlinecolor\":\"#2a3f5f\",\"gridcolor\":\"white\",\"linecolor\":\"white\",\"minorgridcolor\":\"white\",\"startlinecolor\":\"#2a3f5f\"},\"type\":\"carpet\"}],\"table\":[{\"cells\":{\"fill\":{\"color\":\"#EBF0F8\"},\"line\":{\"color\":\"white\"}},\"header\":{\"fill\":{\"color\":\"#C8D4E3\"},\"line\":{\"color\":\"white\"}},\"type\":\"table\"}],\"barpolar\":[{\"marker\":{\"line\":{\"color\":\"#E5ECF6\",\"width\":0.5},\"pattern\":{\"fillmode\":\"overlay\",\"size\":10,\"solidity\":0.2}},\"type\":\"barpolar\"}],\"pie\":[{\"automargin\":true,\"type\":\"pie\"}]},\"layout\":{\"autotypenumbers\":\"strict\",\"colorway\":[\"#636efa\",\"#EF553B\",\"#00cc96\",\"#ab63fa\",\"#FFA15A\",\"#19d3f3\",\"#FF6692\",\"#B6E880\",\"#FF97FF\",\"#FECB52\"],\"font\":{\"color\":\"#2a3f5f\"},\"hovermode\":\"closest\",\"hoverlabel\":{\"align\":\"left\"},\"paper_bgcolor\":\"white\",\"plot_bgcolor\":\"#E5ECF6\",\"polar\":{\"bgcolor\":\"#E5ECF6\",\"angularaxis\":{\"gridcolor\":\"white\",\"linecolor\":\"white\",\"ticks\":\"\"},\"radialaxis\":{\"gridcolor\":\"white\",\"linecolor\":\"white\",\"ticks\":\"\"}},\"ternary\":{\"bgcolor\":\"#E5ECF6\",\"aaxis\":{\"gridcolor\":\"white\",\"linecolor\":\"white\",\"ticks\":\"\"},\"baxis\":{\"gridcolor\":\"white\",\"linecolor\":\"white\",\"ticks\":\"\"},\"caxis\":{\"gridcolor\":\"white\",\"linecolor\":\"white\",\"ticks\":\"\"}},\"coloraxis\":{\"colorbar\":{\"outlinewidth\":0,\"ticks\":\"\"}},\"colorscale\":{\"sequential\":[[0.0,\"#0d0887\"],[0.1111111111111111,\"#46039f\"],[0.2222222222222222,\"#7201a8\"],[0.3333333333333333,\"#9c179e\"],[0.4444444444444444,\"#bd3786\"],[0.5555555555555556,\"#d8576b\"],[0.6666666666666666,\"#ed7953\"],[0.7777777777777778,\"#fb9f3a\"],[0.8888888888888888,\"#fdca26\"],[1.0,\"#f0f921\"]],\"sequentialminus\":[[0.0,\"#0d0887\"],[0.1111111111111111,\"#46039f\"],[0.2222222222222222,\"#7201a8\"],[0.3333333333333333,\"#9c179e\"],[0.4444444444444444,\"#bd3786\"],[0.5555555555555556,\"#d8576b\"],[0.6666666666666666,\"#ed7953\"],[0.7777777777777778,\"#fb9f3a\"],[0.8888888888888888,\"#fdca26\"],[1.0,\"#f0f921\"]],\"diverging\":[[0,\"#8e0152\"],[0.1,\"#c51b7d\"],[0.2,\"#de77ae\"],[0.3,\"#f1b6da\"],[0.4,\"#fde0ef\"],[0.5,\"#f7f7f7\"],[0.6,\"#e6f5d0\"],[0.7,\"#b8e186\"],[0.8,\"#7fbc41\"],[0.9,\"#4d9221\"],[1,\"#276419\"]]},\"xaxis\":{\"gridcolor\":\"white\",\"linecolor\":\"white\",\"ticks\":\"\",\"title\":{\"standoff\":15},\"zerolinecolor\":\"white\",\"automargin\":true,\"zerolinewidth\":2},\"yaxis\":{\"gridcolor\":\"white\",\"linecolor\":\"white\",\"ticks\":\"\",\"title\":{\"standoff\":15},\"zerolinecolor\":\"white\",\"automargin\":true,\"zerolinewidth\":2},\"scene\":{\"xaxis\":{\"backgroundcolor\":\"#E5ECF6\",\"gridcolor\":\"white\",\"linecolor\":\"white\",\"showbackground\":true,\"ticks\":\"\",\"zerolinecolor\":\"white\",\"gridwidth\":2},\"yaxis\":{\"backgroundcolor\":\"#E5ECF6\",\"gridcolor\":\"white\",\"linecolor\":\"white\",\"showbackground\":true,\"ticks\":\"\",\"zerolinecolor\":\"white\",\"gridwidth\":2},\"zaxis\":{\"backgroundcolor\":\"#E5ECF6\",\"gridcolor\":\"white\",\"linecolor\":\"white\",\"showbackground\":true,\"ticks\":\"\",\"zerolinecolor\":\"white\",\"gridwidth\":2}},\"shapedefaults\":{\"line\":{\"color\":\"#2a3f5f\"}},\"annotationdefaults\":{\"arrowcolor\":\"#2a3f5f\",\"arrowhead\":0,\"arrowwidth\":1},\"geo\":{\"bgcolor\":\"white\",\"landcolor\":\"#E5ECF6\",\"subunitcolor\":\"white\",\"showland\":true,\"showlakes\":true,\"lakecolor\":\"white\"},\"title\":{\"x\":0.05},\"mapbox\":{\"style\":\"light\"}}},\"xaxis\":{\"anchor\":\"y\",\"domain\":[0.0,1.0],\"scaleanchor\":\"y\",\"constrain\":\"domain\"},\"yaxis\":{\"anchor\":\"x\",\"domain\":[0.0,1.0],\"autorange\":\"reversed\",\"constrain\":\"domain\"},\"coloraxis\":{\"colorscale\":[[0.0,\"#0d0887\"],[0.1111111111111111,\"#46039f\"],[0.2222222222222222,\"#7201a8\"],[0.3333333333333333,\"#9c179e\"],[0.4444444444444444,\"#bd3786\"],[0.5555555555555556,\"#d8576b\"],[0.6666666666666666,\"#ed7953\"],[0.7777777777777778,\"#fb9f3a\"],[0.8888888888888888,\"#fdca26\"],[1.0,\"#f0f921\"]]},\"margin\":{\"t\":60},\"height\":1000,\"width\":1000},                        {\"responsive\": true}                    ).then(function(){\n",
       "                            \n",
       "var gd = document.getElementById('ec9911d2-5489-43d0-a339-dfec63518ec2');\n",
       "var x = new MutationObserver(function (mutations, observer) {{\n",
       "        var display = window.getComputedStyle(gd).display;\n",
       "        if (!display || display === 'none') {{\n",
       "            console.log([gd, 'removed!']);\n",
       "            Plotly.purge(gd);\n",
       "            observer.disconnect();\n",
       "        }}\n",
       "}});\n",
       "\n",
       "// Listen for the removal of the full notebook cells\n",
       "var notebookContainer = gd.closest('#notebook-container');\n",
       "if (notebookContainer) {{\n",
       "    x.observe(notebookContainer, {childList: true});\n",
       "}}\n",
       "\n",
       "// Listen for the clearing of the current output cell\n",
       "var outputEl = gd.closest('.output');\n",
       "if (outputEl) {{\n",
       "    x.observe(outputEl, {childList: true});\n",
       "}}\n",
       "\n",
       "                        })                };                });            </script>        </div>"
      ]
     },
     "metadata": {},
     "output_type": "display_data"
    }
   ],
   "source": [
    "numerical = ['id','host_id','price','minimum_nights','number_of_reviews','reviews_per_month','calculated_host_listings_count','availability_365']\n",
    "\n",
    "corr = df_filtered[numerical].corr()\n",
    "\n",
    "fig = px.imshow(corr,text_auto=True, width=1000, height=1000)\n",
    "fig.show()"
   ]
  },
  {
   "cell_type": "markdown",
   "id": "69974eec",
   "metadata": {
    "papermill": {
     "duration": 0.013777,
     "end_time": "2024-07-13T15:48:16.337751",
     "exception": false,
     "start_time": "2024-07-13T15:48:16.323974",
     "status": "completed"
    },
    "tags": []
   },
   "source": [
    "Studying the graph above we can see that the highest positive relationship is between the number of reviews and the reviews per month which surprise surprise! makes sense. I honestly thought it should be higher than that.\n",
    "\n",
    "So i think it's safe to say now that there is no significant correlation whatsoever among this data so let's move on.\n"
   ]
  },
  {
   "cell_type": "code",
   "execution_count": 12,
   "id": "4f84cb71",
   "metadata": {
    "execution": {
     "iopub.execute_input": "2024-07-13T15:48:16.366303Z",
     "iopub.status.busy": "2024-07-13T15:48:16.365898Z",
     "iopub.status.idle": "2024-07-13T15:48:16.403768Z",
     "shell.execute_reply": "2024-07-13T15:48:16.402763Z"
    },
    "papermill": {
     "duration": 0.054687,
     "end_time": "2024-07-13T15:48:16.406063",
     "exception": false,
     "start_time": "2024-07-13T15:48:16.351376",
     "status": "completed"
    },
    "tags": []
   },
   "outputs": [
    {
     "data": {
      "text/html": [
       "<div>\n",
       "<style scoped>\n",
       "    .dataframe tbody tr th:only-of-type {\n",
       "        vertical-align: middle;\n",
       "    }\n",
       "\n",
       "    .dataframe tbody tr th {\n",
       "        vertical-align: top;\n",
       "    }\n",
       "\n",
       "    .dataframe thead th {\n",
       "        text-align: right;\n",
       "    }\n",
       "</style>\n",
       "<table border=\"1\" class=\"dataframe\">\n",
       "  <thead>\n",
       "    <tr style=\"text-align: right;\">\n",
       "      <th></th>\n",
       "      <th>price</th>\n",
       "      <th>minimum_nights</th>\n",
       "      <th>number_of_reviews</th>\n",
       "      <th>reviews_per_month</th>\n",
       "      <th>calculated_host_listings_count</th>\n",
       "      <th>availability_365</th>\n",
       "    </tr>\n",
       "  </thead>\n",
       "  <tbody>\n",
       "    <tr>\n",
       "      <th>count</th>\n",
       "      <td>38833.000000</td>\n",
       "      <td>38833.000000</td>\n",
       "      <td>38833.000000</td>\n",
       "      <td>38833.000000</td>\n",
       "      <td>38833.000000</td>\n",
       "      <td>38833.000000</td>\n",
       "    </tr>\n",
       "    <tr>\n",
       "      <th>mean</th>\n",
       "      <td>142.354595</td>\n",
       "      <td>5.867561</td>\n",
       "      <td>29.295393</td>\n",
       "      <td>1.373128</td>\n",
       "      <td>5.164602</td>\n",
       "      <td>114.878222</td>\n",
       "    </tr>\n",
       "    <tr>\n",
       "      <th>std</th>\n",
       "      <td>196.957737</td>\n",
       "      <td>17.386070</td>\n",
       "      <td>48.188127</td>\n",
       "      <td>1.680391</td>\n",
       "      <td>26.299034</td>\n",
       "      <td>129.549091</td>\n",
       "    </tr>\n",
       "    <tr>\n",
       "      <th>min</th>\n",
       "      <td>10.000000</td>\n",
       "      <td>1.000000</td>\n",
       "      <td>1.000000</td>\n",
       "      <td>0.010000</td>\n",
       "      <td>1.000000</td>\n",
       "      <td>0.000000</td>\n",
       "    </tr>\n",
       "    <tr>\n",
       "      <th>25%</th>\n",
       "      <td>69.000000</td>\n",
       "      <td>1.000000</td>\n",
       "      <td>3.000000</td>\n",
       "      <td>0.190000</td>\n",
       "      <td>1.000000</td>\n",
       "      <td>0.000000</td>\n",
       "    </tr>\n",
       "    <tr>\n",
       "      <th>50%</th>\n",
       "      <td>101.000000</td>\n",
       "      <td>2.000000</td>\n",
       "      <td>9.000000</td>\n",
       "      <td>0.720000</td>\n",
       "      <td>1.000000</td>\n",
       "      <td>55.000000</td>\n",
       "    </tr>\n",
       "    <tr>\n",
       "      <th>75%</th>\n",
       "      <td>170.000000</td>\n",
       "      <td>4.000000</td>\n",
       "      <td>33.000000</td>\n",
       "      <td>2.020000</td>\n",
       "      <td>2.000000</td>\n",
       "      <td>229.000000</td>\n",
       "    </tr>\n",
       "    <tr>\n",
       "      <th>max</th>\n",
       "      <td>10000.000000</td>\n",
       "      <td>1250.000000</td>\n",
       "      <td>629.000000</td>\n",
       "      <td>58.500000</td>\n",
       "      <td>327.000000</td>\n",
       "      <td>365.000000</td>\n",
       "    </tr>\n",
       "  </tbody>\n",
       "</table>\n",
       "</div>"
      ],
      "text/plain": [
       "              price  minimum_nights  number_of_reviews  reviews_per_month  \\\n",
       "count  38833.000000    38833.000000       38833.000000       38833.000000   \n",
       "mean     142.354595        5.867561          29.295393           1.373128   \n",
       "std      196.957737       17.386070          48.188127           1.680391   \n",
       "min       10.000000        1.000000           1.000000           0.010000   \n",
       "25%       69.000000        1.000000           3.000000           0.190000   \n",
       "50%      101.000000        2.000000           9.000000           0.720000   \n",
       "75%      170.000000        4.000000          33.000000           2.020000   \n",
       "max    10000.000000     1250.000000         629.000000          58.500000   \n",
       "\n",
       "       calculated_host_listings_count  availability_365  \n",
       "count                    38833.000000      38833.000000  \n",
       "mean                         5.164602        114.878222  \n",
       "std                         26.299034        129.549091  \n",
       "min                          1.000000          0.000000  \n",
       "25%                          1.000000          0.000000  \n",
       "50%                          1.000000         55.000000  \n",
       "75%                          2.000000        229.000000  \n",
       "max                        327.000000        365.000000  "
      ]
     },
     "execution_count": 12,
     "metadata": {},
     "output_type": "execute_result"
    }
   ],
   "source": [
    "summary_stats_col = ['price', 'minimum_nights', 'number_of_reviews','reviews_per_month','calculated_host_listings_count','availability_365']\n",
    "summary_stats = df_filtered[summary_stats_col].describe()\n",
    "\n",
    "summary_stats"
   ]
  },
  {
   "cell_type": "markdown",
   "id": "44cac6ae",
   "metadata": {
    "papermill": {
     "duration": 0.013217,
     "end_time": "2024-07-13T15:48:16.432721",
     "exception": false,
     "start_time": "2024-07-13T15:48:16.419504",
     "status": "completed"
    },
    "tags": []
   },
   "source": [
    "What is this table telling us?\n",
    "\n",
    "starting with the standard deviation we can see that price and availability have very high variation among their numbers which means that some hosts have very high prices and some have very low and the same goes for availability, so this i think is worth investigating to see if hosts with high prices have small rate of occupancy or not.\n",
    "\n",
    "the reviews per month std. shows that most listings are in the same range. while other variations have moderate variations.\n",
    "\n",
    "so the next think i want to do is to check for skewness and draft a graph to see if we have any outliers so let's start with skewness and narrow it down from there."
   ]
  },
  {
   "cell_type": "code",
   "execution_count": 13,
   "id": "834b66fd",
   "metadata": {
    "execution": {
     "iopub.execute_input": "2024-07-13T15:48:16.461753Z",
     "iopub.status.busy": "2024-07-13T15:48:16.460891Z",
     "iopub.status.idle": "2024-07-13T15:48:16.471949Z",
     "shell.execute_reply": "2024-07-13T15:48:16.470581Z"
    },
    "papermill": {
     "duration": 0.028015,
     "end_time": "2024-07-13T15:48:16.474149",
     "exception": false,
     "start_time": "2024-07-13T15:48:16.446134",
     "status": "completed"
    },
    "tags": []
   },
   "outputs": [
    {
     "name": "stdout",
     "output_type": "stream",
     "text": [
      "price                             23.679370\n",
      "minimum_nights                    27.547935\n",
      "number_of_reviews                  3.324187\n",
      "reviews_per_month                  3.131063\n",
      "calculated_host_listings_count    10.629901\n",
      "availability_365                   0.723382\n",
      "dtype: float64\n"
     ]
    }
   ],
   "source": [
    "from scipy.stats import skew\n",
    "\n",
    "skewness = df_filtered[summary_stats_col].skew()\n",
    "print(skewness)"
   ]
  },
  {
   "cell_type": "code",
   "execution_count": 14,
   "id": "09f0ee6a",
   "metadata": {
    "execution": {
     "iopub.execute_input": "2024-07-13T15:48:16.503057Z",
     "iopub.status.busy": "2024-07-13T15:48:16.502655Z",
     "iopub.status.idle": "2024-07-13T15:48:16.989746Z",
     "shell.execute_reply": "2024-07-13T15:48:16.988591Z"
    },
    "papermill": {
     "duration": 0.50461,
     "end_time": "2024-07-13T15:48:16.992333",
     "exception": false,
     "start_time": "2024-07-13T15:48:16.487723",
     "status": "completed"
    },
    "tags": []
   },
   "outputs": [
    {
     "data": {
      "image/png": "[encoded data removed]",
      "text/plain": [
       "<Figure size 1500x1000 with 1 Axes>"
      ]
     },
     "metadata": {},
     "output_type": "display_data"
    }
   ],
   "source": [
    "plt.figure(figsize=(15, 10))\n",
    "sns.boxplot(data=df_filtered[summary_stats_col])\n",
    "plt.show()"
   ]
  },
  {
   "cell_type": "markdown",
   "id": "4a1ba26e",
   "metadata": {
    "papermill": {
     "duration": 0.013988,
     "end_time": "2024-07-13T15:48:17.020744",
     "exception": false,
     "start_time": "2024-07-13T15:48:17.006756",
     "status": "completed"
    },
    "tags": []
   },
   "source": [
    "What we can see above is that price has the largest outliers, followed by minimum nights as their skeweness score indicated while availability seems to have none. \n",
    "\n",
    "But I have noticed now that minimum nights have values reaching over thousand nights which is highly unusual. According to the latest update, AirBnB allows a maximum of 365 nights. So i'm thinking of Capping the values on 365."
   ]
  },
  {
   "cell_type": "code",
   "execution_count": 15,
   "id": "810d20b4",
   "metadata": {
    "execution": {
     "iopub.execute_input": "2024-07-13T15:48:17.051185Z",
     "iopub.status.busy": "2024-07-13T15:48:17.050409Z",
     "iopub.status.idle": "2024-07-13T15:48:17.060788Z",
     "shell.execute_reply": "2024-07-13T15:48:17.059551Z"
    },
    "papermill": {
     "duration": 0.028248,
     "end_time": "2024-07-13T15:48:17.063213",
     "exception": false,
     "start_time": "2024-07-13T15:48:17.034965",
     "status": "completed"
    },
    "tags": []
   },
   "outputs": [
    {
     "name": "stdout",
     "output_type": "stream",
     "text": [
      "0         1\n",
      "1         1\n",
      "2         1\n",
      "3        10\n",
      "4         3\n",
      "         ..\n",
      "38838     1\n",
      "38839     1\n",
      "38840     1\n",
      "38841     1\n",
      "38842     1\n",
      "Name: minimum_nights_capped, Length: 38833, dtype: int64\n"
     ]
    }
   ],
   "source": [
    "df_filtered['minimum_nights_capped'] = df_filtered['minimum_nights'].clip(upper=365)\n",
    "\n",
    "print(df_filtered['minimum_nights_capped'])"
   ]
  },
  {
   "cell_type": "code",
   "execution_count": 16,
   "id": "0d345caa",
   "metadata": {
    "execution": {
     "iopub.execute_input": "2024-07-13T15:48:17.094151Z",
     "iopub.status.busy": "2024-07-13T15:48:17.093243Z",
     "iopub.status.idle": "2024-07-13T15:48:17.349358Z",
     "shell.execute_reply": "2024-07-13T15:48:17.348224Z"
    },
    "papermill": {
     "duration": 0.274177,
     "end_time": "2024-07-13T15:48:17.351727",
     "exception": false,
     "start_time": "2024-07-13T15:48:17.077550",
     "status": "completed"
    },
    "tags": []
   },
   "outputs": [
    {
     "data": {
      "image/png": "[encoded data removed]",
      "text/plain": [
       "<Figure size 1500x1000 with 1 Axes>"
      ]
     },
     "metadata": {},
     "output_type": "display_data"
    }
   ],
   "source": [
    "plt.figure(figsize=(15, 10))\n",
    "sns.boxplot(data=df_filtered['minimum_nights_capped'])\n",
    "plt.show()"
   ]
  },
  {
   "cell_type": "markdown",
   "id": "414457ec",
   "metadata": {
    "papermill": {
     "duration": 0.0145,
     "end_time": "2024-07-13T15:48:17.381009",
     "exception": false,
     "start_time": "2024-07-13T15:48:17.366509",
     "status": "completed"
    },
    "tags": []
   },
   "source": [
    "So now that the column looks a bit closer to normal we can head to the most fun part."
   ]
  },
  {
   "cell_type": "markdown",
   "id": "4518e427",
   "metadata": {
    "papermill": {
     "duration": 0.014536,
     "end_time": "2024-07-13T15:48:17.410284",
     "exception": false,
     "start_time": "2024-07-13T15:48:17.395748",
     "status": "completed"
    },
    "tags": []
   },
   "source": [
    "# **Step 6: Insights & Analysis**"
   ]
  },
  {
   "cell_type": "markdown",
   "id": "6443c07c",
   "metadata": {
    "papermill": {
     "duration": 0.014488,
     "end_time": "2024-07-13T15:48:17.439668",
     "exception": false,
     "start_time": "2024-07-13T15:48:17.425180",
     "status": "completed"
    },
    "tags": []
   },
   "source": [
    "So The questions that I want to investigate after exploring the data are:\n",
    "\n",
    "**1- which areas have the highest average price and their reviews?**"
   ]
  },
  {
   "cell_type": "code",
   "execution_count": 17,
   "id": "ca821615",
   "metadata": {
    "execution": {
     "iopub.execute_input": "2024-07-13T15:48:17.471138Z",
     "iopub.status.busy": "2024-07-13T15:48:17.470704Z",
     "iopub.status.idle": "2024-07-13T15:48:17.505785Z",
     "shell.execute_reply": "2024-07-13T15:48:17.504695Z"
    },
    "papermill": {
     "duration": 0.05382,
     "end_time": "2024-07-13T15:48:17.508407",
     "exception": false,
     "start_time": "2024-07-13T15:48:17.454587",
     "status": "completed"
    },
    "tags": []
   },
   "outputs": [
    {
     "name": "stderr",
     "output_type": "stream",
     "text": [
      "/tmp/ipykernel_18/1358184676.py:8: DeprecationWarning:\n",
      "\n",
      "DataFrameGroupBy.apply operated on the grouping columns. This behavior is deprecated, and in a future version of pandas the grouping columns will be excluded from the operation. Either pass `include_groups=False` to exclude the groupings or explicitly select the grouping columns after groupby to silence this warning.\n",
      "\n"
     ]
    }
   ],
   "source": [
    "#first I'm going to aggregate the neighborhoods into their groups and find the average price and the total number of reviews for each.\n",
    "neighborhood_stats = df_filtered.groupby(['neighbourhood_group', 'neighbourhood'], as_index=False).agg({\n",
    "    'price': 'mean',\n",
    "    'number_of_reviews': 'sum'\n",
    "}).reset_index()\n",
    "\n",
    "#and since there are too many neighborhoods it's enough to just see the top five from each group.\n",
    "top_neighborhoods = neighborhood_stats.groupby('neighbourhood_group',group_keys=False).apply(lambda x: x.nlargest(5, 'price')).reset_index(drop=True)"
   ]
  },
  {
   "cell_type": "code",
   "execution_count": 18,
   "id": "cff48fce",
   "metadata": {
    "execution": {
     "iopub.execute_input": "2024-07-13T15:48:17.539956Z",
     "iopub.status.busy": "2024-07-13T15:48:17.539532Z",
     "iopub.status.idle": "2024-07-13T15:48:17.552211Z",
     "shell.execute_reply": "2024-07-13T15:48:17.550842Z"
    },
    "papermill": {
     "duration": 0.031143,
     "end_time": "2024-07-13T15:48:17.554547",
     "exception": false,
     "start_time": "2024-07-13T15:48:17.523404",
     "status": "completed"
    },
    "tags": []
   },
   "outputs": [
    {
     "name": "stdout",
     "output_type": "stream",
     "text": [
      "<class 'pandas.core.frame.DataFrame'>\n",
      "RangeIndex: 25 entries, 0 to 24\n",
      "Data columns (total 5 columns):\n",
      " #   Column               Non-Null Count  Dtype  \n",
      "---  ------               --------------  -----  \n",
      " 0   index                25 non-null     int64  \n",
      " 1   neighbourhood_group  25 non-null     object \n",
      " 2   neighbourhood        25 non-null     object \n",
      " 3   price                25 non-null     float64\n",
      " 4   number_of_reviews    25 non-null     int64  \n",
      "dtypes: float64(1), int64(2), object(2)\n",
      "memory usage: 1.1+ KB\n"
     ]
    }
   ],
   "source": [
    "top_neighborhoods.info()"
   ]
  },
  {
   "cell_type": "code",
   "execution_count": 19,
   "id": "7232613c",
   "metadata": {
    "execution": {
     "iopub.execute_input": "2024-07-13T15:48:17.586325Z",
     "iopub.status.busy": "2024-07-13T15:48:17.585960Z",
     "iopub.status.idle": "2024-07-13T15:48:18.279505Z",
     "shell.execute_reply": "2024-07-13T15:48:18.278482Z"
    },
    "papermill": {
     "duration": 0.713147,
     "end_time": "2024-07-13T15:48:18.282690",
     "exception": false,
     "start_time": "2024-07-13T15:48:17.569543",
     "status": "completed"
    },
    "tags": []
   },
   "outputs": [
    {
     "data": {
      "image/png": "[encoded data removed]",
      "text/plain": [
       "<Figure size 1200x800 with 1 Axes>"
      ]
     },
     "metadata": {},
     "output_type": "display_data"
    }
   ],
   "source": [
    "plt.figure(figsize=(12, 8))\n",
    "sns.scatterplot(data=top_neighborhoods, x='neighbourhood', y='price', hue='neighbourhood_group', size='number_of_reviews', sizes=(50, 2000), legend='auto')\n",
    "plt.title('Top 3 Neighborhoods by Average Price and Reviews')\n",
    "plt.xlabel('Neighborhood')\n",
    "plt.ylabel('Average Price')\n",
    "plt.xticks(rotation=45)\n",
    "plt.grid(True)\n",
    "plt.show()"
   ]
  },
  {
   "cell_type": "markdown",
   "id": "8177bd06",
   "metadata": {
    "papermill": {
     "duration": 0.017115,
     "end_time": "2024-07-13T15:48:18.316867",
     "exception": false,
     "start_time": "2024-07-13T15:48:18.299752",
     "status": "completed"
    },
    "tags": []
   },
   "source": [
    "I want to see it as a table to make a bit clearer"
   ]
  },
  {
   "cell_type": "code",
   "execution_count": 20,
   "id": "46acc599",
   "metadata": {
    "execution": {
     "iopub.execute_input": "2024-07-13T15:48:18.353879Z",
     "iopub.status.busy": "2024-07-13T15:48:18.353493Z",
     "iopub.status.idle": "2024-07-13T15:48:18.387013Z",
     "shell.execute_reply": "2024-07-13T15:48:18.385732Z"
    },
    "papermill": {
     "duration": 0.055655,
     "end_time": "2024-07-13T15:48:18.389532",
     "exception": false,
     "start_time": "2024-07-13T15:48:18.333877",
     "status": "completed"
    },
    "tags": []
   },
   "outputs": [
    {
     "name": "stdout",
     "output_type": "stream",
     "text": [
      "+----+---------+-----------------------+--------------------+---------+---------------------+\n",
      "|    |   index | neighbourhood_group   | neighbourhood      |   price |   number_of_reviews |\n",
      "|----+---------+-----------------------+--------------------+---------+---------------------|\n",
      "|  5 |      88 | Brooklyn              | Sea Gate           | 482.5   |                  10 |\n",
      "| 10 |     121 | Manhattan             | Tribeca            | 460.3   |                2034 |\n",
      "| 11 |     115 | Manhattan             | NoHo               | 298.452 |                 994 |\n",
      "| 12 |     102 | Manhattan             | Flatiron District  | 291.483 |                1419 |\n",
      "| 13 |     118 | Manhattan             | SoHo               | 281.303 |                7235 |\n",
      "| 15 |     163 | Queens                | Neponsit           | 274.667 |                  46 |\n",
      "| 14 |     112 | Manhattan             | Midtown            | 267.583 |               19444 |\n",
      "| 20 |     217 | Staten Island         | Willowbrook        | 249     |                   9 |\n",
      "|  0 |      34 | Bronx                 | Riverdale          | 226.857 |                 293 |\n",
      "|  6 |      56 | Brooklyn              | Brooklyn Heights   | 201.96  |                2555 |\n",
      "| 16 |     134 | Queens                | Breezy Point       | 195     |                   5 |\n",
      "|  7 |      62 | Brooklyn              | Cobble Hill        | 193.432 |                2888 |\n",
      "| 21 |     182 | Staten Island         | Castleton Corners  | 182     |                 101 |\n",
      "|  8 |      82 | Brooklyn              | Mill Basin         | 179.75  |                  69 |\n",
      "|  9 |      60 | Brooklyn              | Carroll Gardens    | 178.899 |                5897 |\n",
      "| 17 |     130 | Queens                | Bayside            | 178.129 |                 928 |\n",
      "| 22 |     212 | Staten Island         | Todt Hill          | 169     |                  16 |\n",
      "| 18 |     132 | Queens                | Belle Harbor       | 166.4   |                  74 |\n",
      "|  1 |      40 | Bronx                 | Unionport          | 162     |                 104 |\n",
      "| 23 |     214 | Staten Island         | Tottenville        | 160.8   |                 139 |\n",
      "| 19 |     150 | Queens                | Holliswood         | 159     |                  15 |\n",
      "| 24 |     194 | Staten Island         | Lighthouse Hill    | 157.5   |                  78 |\n",
      "|  2 |      37 | Bronx                 | Spuyten Duyvil     | 154.75  |                  70 |\n",
      "|  3 |      45 | Bronx                 | Westchester Square | 127.444 |                 155 |\n",
      "|  4 |      12 | Bronx                 | Eastchester        | 124.9   |                 157 |\n",
      "+----+---------+-----------------------+--------------------+---------+---------------------+\n"
     ]
    }
   ],
   "source": [
    "from tabulate import tabulate\n",
    "\n",
    "top_neighborhoods_sorted = top_neighborhoods.sort_values(by='price', ascending=False)\n",
    "\n",
    "print(tabulate(top_neighborhoods_sorted, headers='keys', tablefmt='psql'))"
   ]
  },
  {
   "cell_type": "markdown",
   "id": "cf93f1ce",
   "metadata": {
    "papermill": {
     "duration": 0.016352,
     "end_time": "2024-07-13T15:48:18.422894",
     "exception": false,
     "start_time": "2024-07-13T15:48:18.406542",
     "status": "completed"
    },
    "tags": []
   },
   "source": [
    "So from the table and the graph above, we can tell that Manhattan have the highest prices and their number of reviews fall in the maximum range. but from the variation of the number of reviews column we can say that the listings with the highest prices tend to receive reviews predominantly on the higher end of the spectrum but it's clear to see that price does not influence the number of reviews."
   ]
  },
  {
   "cell_type": "markdown",
   "id": "03c81ed5",
   "metadata": {
    "papermill": {
     "duration": 0.016756,
     "end_time": "2024-07-13T15:48:18.457883",
     "exception": false,
     "start_time": "2024-07-13T15:48:18.441127",
     "status": "completed"
    },
    "tags": []
   },
   "source": [
    "**2- Are there any patterns or common traits among the most successful hosts (e.g., higher reviews per month, higher availability)?**"
   ]
  },
  {
   "cell_type": "markdown",
   "id": "4492da47",
   "metadata": {
    "papermill": {
     "duration": 0.017059,
     "end_time": "2024-07-13T15:48:18.492139",
     "exception": false,
     "start_time": "2024-07-13T15:48:18.475080",
     "status": "completed"
    },
    "tags": []
   },
   "source": [
    "2- Are there any patterns or common traits among the most successful hosts (e.g., higher reviews per month, higher availability)?\n",
    "Here it's somehow the same approach as the first question, but instead of looking into neighborhoods we'll look into hosts performance investigating their listings performance.\n",
    "\n",
    "I think the columns we'll need in order to measure a hosts performance are:\n",
    "\n",
    "**availability_365** we can use it calculate occupancy rate, a small occupancy should indicate that the hosts listings are mostly booked throughout the year.\n",
    "\n",
    "**price** how much do they cahrge for their listings on average.\n",
    "\n",
    "**number_of_reviews** their total number of reviews for all listings.\n",
    "\n",
    "**calculated_host_listings_count** the total number of listings\n",
    "\n",
    "so we can assign weights for those three metrics to give us a score that indicates how a host is performing to some extend."
   ]
  },
  {
   "cell_type": "code",
   "execution_count": 21,
   "id": "03efbd1d",
   "metadata": {
    "execution": {
     "iopub.execute_input": "2024-07-13T15:48:18.527748Z",
     "iopub.status.busy": "2024-07-13T15:48:18.527351Z",
     "iopub.status.idle": "2024-07-13T15:48:18.568656Z",
     "shell.execute_reply": "2024-07-13T15:48:18.567363Z"
    },
    "papermill": {
     "duration": 0.062123,
     "end_time": "2024-07-13T15:48:18.571217",
     "exception": false,
     "start_time": "2024-07-13T15:48:18.509094",
     "status": "completed"
    },
    "tags": []
   },
   "outputs": [
    {
     "data": {
      "text/html": [
       "<div>\n",
       "<style scoped>\n",
       "    .dataframe tbody tr th:only-of-type {\n",
       "        vertical-align: middle;\n",
       "    }\n",
       "\n",
       "    .dataframe tbody tr th {\n",
       "        vertical-align: top;\n",
       "    }\n",
       "\n",
       "    .dataframe thead th {\n",
       "        text-align: right;\n",
       "    }\n",
       "</style>\n",
       "<table border=\"1\" class=\"dataframe\">\n",
       "  <thead>\n",
       "    <tr style=\"text-align: right;\">\n",
       "      <th></th>\n",
       "      <th>index</th>\n",
       "      <th>host_name</th>\n",
       "      <th>occupancy_rate</th>\n",
       "      <th>price</th>\n",
       "      <th>number_of_reviews</th>\n",
       "      <th>calculated_host_listings_count</th>\n",
       "      <th>Performance_score</th>\n",
       "    </tr>\n",
       "  </thead>\n",
       "  <tbody>\n",
       "    <tr>\n",
       "      <th>0</th>\n",
       "      <td>0</td>\n",
       "      <td>'Cil</td>\n",
       "      <td>0.183562</td>\n",
       "      <td>120.0</td>\n",
       "      <td>240</td>\n",
       "      <td>1</td>\n",
       "      <td>72.355068</td>\n",
       "    </tr>\n",
       "    <tr>\n",
       "      <th>1</th>\n",
       "      <td>1</td>\n",
       "      <td>(Ari) HENRY LEE</td>\n",
       "      <td>0.846575</td>\n",
       "      <td>140.0</td>\n",
       "      <td>3</td>\n",
       "      <td>1</td>\n",
       "      <td>29.153973</td>\n",
       "    </tr>\n",
       "    <tr>\n",
       "      <th>2</th>\n",
       "      <td>2</td>\n",
       "      <td>(Email hidden by Airbnb)</td>\n",
       "      <td>0.803836</td>\n",
       "      <td>188.0</td>\n",
       "      <td>75</td>\n",
       "      <td>7</td>\n",
       "      <td>54.941151</td>\n",
       "    </tr>\n",
       "    <tr>\n",
       "      <th>3</th>\n",
       "      <td>3</td>\n",
       "      <td>(Mary) Haiy</td>\n",
       "      <td>0.191781</td>\n",
       "      <td>126.0</td>\n",
       "      <td>188</td>\n",
       "      <td>1</td>\n",
       "      <td>63.157534</td>\n",
       "    </tr>\n",
       "    <tr>\n",
       "      <th>4</th>\n",
       "      <td>4</td>\n",
       "      <td>-TheQueensCornerLot</td>\n",
       "      <td>0.320548</td>\n",
       "      <td>150.0</td>\n",
       "      <td>51</td>\n",
       "      <td>1</td>\n",
       "      <td>40.596164</td>\n",
       "    </tr>\n",
       "    <tr>\n",
       "      <th>5</th>\n",
       "      <td>5</td>\n",
       "      <td>2018Serenity</td>\n",
       "      <td>0.912329</td>\n",
       "      <td>50.0</td>\n",
       "      <td>4</td>\n",
       "      <td>1</td>\n",
       "      <td>11.373699</td>\n",
       "    </tr>\n",
       "    <tr>\n",
       "      <th>6</th>\n",
       "      <td>6</td>\n",
       "      <td>371</td>\n",
       "      <td>0.613699</td>\n",
       "      <td>225.0</td>\n",
       "      <td>8</td>\n",
       "      <td>1</td>\n",
       "      <td>47.084110</td>\n",
       "    </tr>\n",
       "  </tbody>\n",
       "</table>\n",
       "</div>"
      ],
      "text/plain": [
       "   index                 host_name  occupancy_rate  price  number_of_reviews  \\\n",
       "0      0                      'Cil        0.183562  120.0                240   \n",
       "1      1           (Ari) HENRY LEE        0.846575  140.0                  3   \n",
       "2      2  (Email hidden by Airbnb)        0.803836  188.0                 75   \n",
       "3      3               (Mary) Haiy        0.191781  126.0                188   \n",
       "4      4       -TheQueensCornerLot        0.320548  150.0                 51   \n",
       "5      5              2018Serenity        0.912329   50.0                  4   \n",
       "6      6                       371        0.613699  225.0                  8   \n",
       "\n",
       "   calculated_host_listings_count  Performance_score  \n",
       "0                               1          72.355068  \n",
       "1                               1          29.153973  \n",
       "2                               7          54.941151  \n",
       "3                               1          63.157534  \n",
       "4                               1          40.596164  \n",
       "5                               1          11.373699  \n",
       "6                               1          47.084110  "
      ]
     },
     "execution_count": 21,
     "metadata": {},
     "output_type": "execute_result"
    }
   ],
   "source": [
    "df_filtered['occupancy_rate'] = 1 - (df_filtered['availability_365']/365)\n",
    "\n",
    "host_performance = df_filtered.groupby(['host_name'], as_index = False).agg({\n",
    "    'occupancy_rate': 'mean',\n",
    "    'price':'mean',\n",
    "    'number_of_reviews':'sum',\n",
    "    'calculated_host_listings_count':'sum'\n",
    "}).reset_index()\n",
    "\n",
    "host_performance['Performance_score'] = host_performance['occupancy_rate']*0.3 + host_performance['price']*0.2 + host_performance['number_of_reviews']*0.2 +host_performance['calculated_host_listings_count']*0.3\n",
    "\n",
    "host_performance.head(7)"
   ]
  },
  {
   "cell_type": "markdown",
   "id": "21380a00",
   "metadata": {
    "papermill": {
     "duration": 0.018334,
     "end_time": "2024-07-13T15:48:18.607015",
     "exception": false,
     "start_time": "2024-07-13T15:48:18.588681",
     "status": "completed"
    },
    "tags": []
   },
   "source": [
    "Cool, now let's visualize it."
   ]
  },
  {
   "cell_type": "code",
   "execution_count": 22,
   "id": "0587943d",
   "metadata": {
    "execution": {
     "iopub.execute_input": "2024-07-13T15:48:18.645646Z",
     "iopub.status.busy": "2024-07-13T15:48:18.644577Z",
     "iopub.status.idle": "2024-07-13T15:48:18.659498Z",
     "shell.execute_reply": "2024-07-13T15:48:18.658346Z"
    },
    "papermill": {
     "duration": 0.037163,
     "end_time": "2024-07-13T15:48:18.662212",
     "exception": false,
     "start_time": "2024-07-13T15:48:18.625049",
     "status": "completed"
    },
    "tags": []
   },
   "outputs": [
    {
     "name": "stdout",
     "output_type": "stream",
     "text": [
      "+-------------------+------------------+-----------+---------------------+----------------------------------+\n",
      "| host_name         |   occupancy_rate |     price |   number_of_reviews |   calculated_host_listings_count |\n",
      "|-------------------+------------------+-----------+---------------------+----------------------------------|\n",
      "| Sonder (NYC)      |        0.209966  |  270.145  |                1281 |                            67689 |\n",
      "| Michael           |        0.733371  |  153.173  |               11081 |                              939 |\n",
      "| John              |        0.595233  |  136.232  |                7223 |                             2694 |\n",
      "| Corporate Housing |        0.338616  |  144.62   |                 417 |                             7189 |\n",
      "| Blueground        |        0.25636   |  285.393  |                  29 |                             6496 |\n",
      "| Olson             |        1         | 9999      |                   1 |                                1 |\n",
      "| David             |        0.681802  |  156.693  |                8103 |                              723 |\n",
      "| Jeremy & Laura    |        0.18455   |  198.033  |                 138 |                             5856 |\n",
      "| Rum               |        0.312329  | 8500      |                   2 |                                1 |\n",
      "| Kara              |        0.301927  |  213.186  |                 324 |                             5230 |\n",
      "| Kazuya            |        0.435831  |   43.8235 |                  87 |                             5253 |\n",
      "| Mike              |        0.568164  |  136.513  |                4039 |                             2348 |\n",
      "| Jason             |        0.607912  |  138.264  |                6522 |                              296 |\n",
      "| Alex              |        0.67036   |  170.812  |                6204 |                              404 |\n",
      "| Ken               |        0.335676  |  192.391  |                 881 |                             3464 |\n",
      "| Jay And Liz       |        0.0164384 | 6000      |                  17 |                                1 |\n",
      "| Chris             |        0.724858  |  148.879  |                5028 |                              201 |\n",
      "| Anna              |        0.678271  |  139.05   |                4799 |                              236 |\n",
      "| Melissa           |        0.519347  |  104.644  |                2795 |                             1576 |\n",
      "| Daniel            |        0.765592  |  141.365  |                4723 |                              217 |\n",
      "| Eric              |        0.747472  |  149.973  |                4733 |                              150 |\n",
      "| Anthony           |        0.60894   |  129.202  |                3877 |                              729 |\n",
      "| Sarah             |        0.843774  |  127.659  |                4579 |                              253 |\n",
      "| Sarah-B           |        1         | 5000      |                   8 |                                1 |\n",
      "| Sarah-2           |        1         | 5000      |                   4 |                                1 |\n",
      "+-------------------+------------------+-----------+---------------------+----------------------------------+\n"
     ]
    }
   ],
   "source": [
    "Top_hosts = host_performance.nlargest(25, 'Performance_score')\n",
    "\n",
    "table_columns = Top_hosts[['host_name','occupancy_rate','price','number_of_reviews','calculated_host_listings_count']]\n",
    "\n",
    "pd.set_option('display.max_colwidth', None)\n",
    "\n",
    "print(tabulate(table_columns, headers='keys', tablefmt='psql',showindex=False))"
   ]
  },
  {
   "cell_type": "markdown",
   "id": "7adf81a3",
   "metadata": {
    "papermill": {
     "duration": 0.018136,
     "end_time": "2024-07-13T15:48:18.697955",
     "exception": false,
     "start_time": "2024-07-13T15:48:18.679819",
     "status": "completed"
    },
    "tags": []
   },
   "source": [
    "The table above shows the top 25 hosts based on their performance score, it shows that the most successful hosts often manage multiple listings and tend to receive a high number of reviews. Their prices are generally in the middle range, but their occupancy rates vary widely."
   ]
  },
  {
   "cell_type": "markdown",
   "id": "0614681d",
   "metadata": {
    "papermill": {
     "duration": 0.01695,
     "end_time": "2024-07-13T15:48:18.732466",
     "exception": false,
     "start_time": "2024-07-13T15:48:18.715516",
     "status": "completed"
    },
    "tags": []
   },
   "source": [
    "\n",
    "**3- What is the relationship between price and room type? Which room types command the highest prices?**"
   ]
  },
  {
   "cell_type": "markdown",
   "id": "b65fb93a",
   "metadata": {
    "papermill": {
     "duration": 0.017195,
     "end_time": "2024-07-13T15:48:18.767251",
     "exception": false,
     "start_time": "2024-07-13T15:48:18.750056",
     "status": "completed"
    },
    "tags": []
   },
   "source": [
    "This can be shown using a simple bar graph."
   ]
  },
  {
   "cell_type": "code",
   "execution_count": 23,
   "id": "5eea3161",
   "metadata": {
    "execution": {
     "iopub.execute_input": "2024-07-13T15:48:18.803807Z",
     "iopub.status.busy": "2024-07-13T15:48:18.803337Z",
     "iopub.status.idle": "2024-07-13T15:48:19.040031Z",
     "shell.execute_reply": "2024-07-13T15:48:19.038991Z"
    },
    "papermill": {
     "duration": 0.257563,
     "end_time": "2024-07-13T15:48:19.042223",
     "exception": false,
     "start_time": "2024-07-13T15:48:18.784660",
     "status": "completed"
    },
    "tags": []
   },
   "outputs": [
    {
     "data": {
      "image/png": "[encoded data removed]",
      "text/plain": [
       "<Figure size 1200x600 with 1 Axes>"
      ]
     },
     "metadata": {},
     "output_type": "display_data"
    }
   ],
   "source": [
    "avg_price_per_room = df_filtered.groupby('room_type')['price'].mean().reset_index()\n",
    "\n",
    "total_avg_price = avg_price_per_room['price'].sum()\n",
    "avg_price_per_room['percentage'] = (avg_price_per_room['price']/total_avg_price)*100\n",
    "\n",
    "\n",
    "plt.figure(figsize=(12, 6))\n",
    "bars = plt.bar(avg_price_per_room['room_type'], avg_price_per_room['price'], color='skyblue')\n",
    "\n",
    "for bar, percentage in zip(bars, avg_price_per_room['percentage']):\n",
    "    plt.text(bar.get_x() + bar.get_width() / 2, bar.get_height() + 1, f'{percentage:.1f}%', ha='center', va='bottom')\n",
    "\n",
    "plt.title('Average Price per Room Type')\n",
    "plt.xlabel('Room Type')\n",
    "plt.ylabel('Average Price')\n",
    "plt.ylim(0, max(avg_price_per_room['price']) * 1.2)\n",
    "plt.show()"
   ]
  },
  {
   "cell_type": "markdown",
   "id": "f991fa07",
   "metadata": {
    "papermill": {
     "duration": 0.017629,
     "end_time": "2024-07-13T15:48:19.077801",
     "exception": false,
     "start_time": "2024-07-13T15:48:19.060172",
     "status": "completed"
    },
    "tags": []
   },
   "source": [
    "It's clear that entire home/apartment have the highest average of prices by 57.1%"
   ]
  },
  {
   "cell_type": "markdown",
   "id": "006bbfb4",
   "metadata": {
    "papermill": {
     "duration": 0.017611,
     "end_time": "2024-07-13T15:48:19.113138",
     "exception": false,
     "start_time": "2024-07-13T15:48:19.095527",
     "status": "completed"
    },
    "tags": []
   },
   "source": [
    "**4- Which neighborhoods are the most popular based on the number of listings and reviews?**"
   ]
  },
  {
   "cell_type": "code",
   "execution_count": 24,
   "id": "f60b5c5c",
   "metadata": {
    "execution": {
     "iopub.execute_input": "2024-07-13T15:48:19.150025Z",
     "iopub.status.busy": "2024-07-13T15:48:19.149617Z",
     "iopub.status.idle": "2024-07-13T15:48:19.540479Z",
     "shell.execute_reply": "2024-07-13T15:48:19.539374Z"
    },
    "papermill": {
     "duration": 0.412122,
     "end_time": "2024-07-13T15:48:19.542740",
     "exception": false,
     "start_time": "2024-07-13T15:48:19.130618",
     "status": "completed"
    },
    "tags": []
   },
   "outputs": [
    {
     "name": "stdout",
     "output_type": "stream",
     "text": [
      "Aggregated Neighborhood Stats:\n",
      "  neighbourhood_group  calculated_host_listings_count  number_of_reviews\n",
      "1            Brooklyn                           36685             486252\n",
      "2           Manhattan                          145852             454569\n",
      "3              Queens                           15343             156950\n",
      "0               Bronx                            1927              28316\n",
      "4       Staten Island                             750              11541\n"
     ]
    },
    {
     "data": {
      "text/html": [
       "<div style=\"width:100%;\"><div style=\"position:relative;width:100%;height:0;padding-bottom:60%;\"><span style=\"color:#565656\">Make this Notebook Trusted to load map: File -> Trust Notebook</span><iframe srcdoc=\"&lt;!DOCTYPE html&gt;\n",
       "&lt;html&gt;\n",
       "&lt;head&gt;\n",
       "    \n",
       "    &lt;meta http-equiv=&quot;content-type&quot; content=&quot;text/html; charset=UTF-8&quot; /&gt;\n",
       "    \n",
       "        &lt;script&gt;\n",
       "            L_NO_TOUCH = false;\n",
       "            L_DISABLE_3D = false;\n",
       "        &lt;/script&gt;\n",
       "    \n",
       "    &lt;style&gt;html, body {width: 100%;height: 100%;margin: 0;padding: 0;}&lt;/style&gt;\n",
       "    &lt;style&gt;#map {position:absolute;top:0;bottom:0;right:0;left:0;}&lt;/style&gt;\n",
       "    &lt;script src=&quot;https://cdn.jsdelivr.net/npm/leaflet@1.9.3/dist/leaflet.js&quot;&gt;&lt;/script&gt;\n",
       "    &lt;script src=&quot;https://code.jquery.com/jquery-3.7.1.min.js&quot;&gt;&lt;/script&gt;\n",
       "    &lt;script src=&quot;https://cdn.jsdelivr.net/npm/bootstrap@5.2.2/dist/js/bootstrap.bundle.min.js&quot;&gt;&lt;/script&gt;\n",
       "    &lt;script src=&quot;https://cdnjs.cloudflare.com/ajax/libs/Leaflet.awesome-markers/2.0.2/leaflet.awesome-markers.js&quot;&gt;&lt;/script&gt;\n",
       "    &lt;link rel=&quot;stylesheet&quot; href=&quot;https://cdn.jsdelivr.net/npm/leaflet@1.9.3/dist/leaflet.css&quot;/&gt;\n",
       "    &lt;link rel=&quot;stylesheet&quot; href=&quot;https://cdn.jsdelivr.net/npm/bootstrap@5.2.2/dist/css/bootstrap.min.css&quot;/&gt;\n",
       "    &lt;link rel=&quot;stylesheet&quot; href=&quot;https://netdna.bootstrapcdn.com/bootstrap/3.0.0/css/bootstrap.min.css&quot;/&gt;\n",
       "    &lt;link rel=&quot;stylesheet&quot; href=&quot;https://cdn.jsdelivr.net/npm/@fortawesome/fontawesome-free@6.2.0/css/all.min.css&quot;/&gt;\n",
       "    &lt;link rel=&quot;stylesheet&quot; href=&quot;https://cdnjs.cloudflare.com/ajax/libs/Leaflet.awesome-markers/2.0.2/leaflet.awesome-markers.css&quot;/&gt;\n",
       "    &lt;link rel=&quot;stylesheet&quot; href=&quot;https://cdn.jsdelivr.net/gh/python-visualization/folium/folium/templates/leaflet.awesome.rotate.min.css&quot;/&gt;\n",
       "    \n",
       "            &lt;meta name=&quot;viewport&quot; content=&quot;width=device-width,\n",
       "                initial-scale=1.0, maximum-scale=1.0, user-scalable=no&quot; /&gt;\n",
       "            &lt;style&gt;\n",
       "                #map_36f8c282a82becea274d75234c456bdb {\n",
       "                    position: relative;\n",
       "                    width: 100.0%;\n",
       "                    height: 600.0px;\n",
       "                    left: 0.0%;\n",
       "                    top: 0.0%;\n",
       "                }\n",
       "                .leaflet-container { font-size: 1rem; }\n",
       "            &lt;/style&gt;\n",
       "        \n",
       "&lt;/head&gt;\n",
       "&lt;body&gt;\n",
       "    \n",
       "    \n",
       "            &lt;div class=&quot;folium-map&quot; id=&quot;map_36f8c282a82becea274d75234c456bdb&quot; &gt;&lt;/div&gt;\n",
       "        \n",
       "&lt;/body&gt;\n",
       "&lt;script&gt;\n",
       "    \n",
       "    \n",
       "            var map_36f8c282a82becea274d75234c456bdb = L.map(\n",
       "                &quot;map_36f8c282a82becea274d75234c456bdb&quot;,\n",
       "                {\n",
       "                    center: [40.7128, -74.006],\n",
       "                    crs: L.CRS.EPSG3857,\n",
       "                    zoom: 11,\n",
       "                    zoomControl: true,\n",
       "                    preferCanvas: false,\n",
       "                }\n",
       "            );\n",
       "\n",
       "            \n",
       "\n",
       "        \n",
       "    \n",
       "            var tile_layer_a9e25b06a1f1354a2bd436e8e7155bc1 = L.tileLayer(\n",
       "                &quot;https://tile.openstreetmap.org/{z}/{x}/{y}.png&quot;,\n",
       "                {&quot;attribution&quot;: &quot;Map data \\u00a9 OpenStreetMap contributors&quot;, &quot;detectRetina&quot;: false, &quot;maxNativeZoom&quot;: 19, &quot;maxZoom&quot;: 19, &quot;minZoom&quot;: 0, &quot;noWrap&quot;: false, &quot;opacity&quot;: 1, &quot;subdomains&quot;: &quot;abc&quot;, &quot;tms&quot;: false}\n",
       "            );\n",
       "        \n",
       "    \n",
       "            tile_layer_a9e25b06a1f1354a2bd436e8e7155bc1.addTo(map_36f8c282a82becea274d75234c456bdb);\n",
       "        \n",
       "    \n",
       "            var circle_marker_446fb3bd2d234194ea2a19f6e6918d70 = L.circleMarker(\n",
       "                [40.84832371428571, -73.88392446857142],\n",
       "                {&quot;bubblingMouseEvents&quot;: true, &quot;color&quot;: &quot;orange&quot;, &quot;dashArray&quot;: null, &quot;dashOffset&quot;: null, &quot;fill&quot;: true, &quot;fillColor&quot;: &quot;orange&quot;, &quot;fillOpacity&quot;: 0.7, &quot;fillRule&quot;: &quot;evenodd&quot;, &quot;lineCap&quot;: &quot;round&quot;, &quot;lineJoin&quot;: &quot;round&quot;, &quot;opacity&quot;: 1.0, &quot;radius&quot;: 2.8316000000000003, &quot;stroke&quot;: true, &quot;weight&quot;: 3}\n",
       "            ).addTo(map_36f8c282a82becea274d75234c456bdb);\n",
       "        \n",
       "    \n",
       "        var popup_275f68dc5c354e3d95f3e62715f96119 = L.popup({&quot;maxWidth&quot;: &quot;100%&quot;});\n",
       "\n",
       "        \n",
       "            \n",
       "                var html_c411ab842a0e570ca87d07824f39cfed = $(`&lt;div id=&quot;html_c411ab842a0e570ca87d07824f39cfed&quot; style=&quot;width: 100.0%; height: 100.0%;&quot;&gt;Neighborhood Group: Bronx&lt;br&gt;Number of Listings: 1927&lt;br&gt;Total Reviews: 28316&lt;/div&gt;`)[0];\n",
       "                popup_275f68dc5c354e3d95f3e62715f96119.setContent(html_c411ab842a0e570ca87d07824f39cfed);\n",
       "            \n",
       "        \n",
       "\n",
       "        circle_marker_446fb3bd2d234194ea2a19f6e6918d70.bindPopup(popup_275f68dc5c354e3d95f3e62715f96119)\n",
       "        ;\n",
       "\n",
       "        \n",
       "    \n",
       "    \n",
       "            var circle_marker_95dfd8e48b28acc819f473731c3bd2b9 = L.circleMarker(\n",
       "                [40.684790034067404, -73.95103748813725],\n",
       "                {&quot;bubblingMouseEvents&quot;: true, &quot;color&quot;: &quot;green&quot;, &quot;dashArray&quot;: null, &quot;dashOffset&quot;: null, &quot;fill&quot;: true, &quot;fillColor&quot;: &quot;green&quot;, &quot;fillOpacity&quot;: 0.7, &quot;fillRule&quot;: &quot;evenodd&quot;, &quot;lineCap&quot;: &quot;round&quot;, &quot;lineJoin&quot;: &quot;round&quot;, &quot;opacity&quot;: 1.0, &quot;radius&quot;: 48.6252, &quot;stroke&quot;: true, &quot;weight&quot;: 3}\n",
       "            ).addTo(map_36f8c282a82becea274d75234c456bdb);\n",
       "        \n",
       "    \n",
       "        var popup_21f7b8202d4fcf9450639aeb9a312b60 = L.popup({&quot;maxWidth&quot;: &quot;100%&quot;});\n",
       "\n",
       "        \n",
       "            \n",
       "                var html_df298139daccfdd05980ecc366cafa0f = $(`&lt;div id=&quot;html_df298139daccfdd05980ecc366cafa0f&quot; style=&quot;width: 100.0%; height: 100.0%;&quot;&gt;Neighborhood Group: Brooklyn&lt;br&gt;Number of Listings: 36685&lt;br&gt;Total Reviews: 486252&lt;/div&gt;`)[0];\n",
       "                popup_21f7b8202d4fcf9450639aeb9a312b60.setContent(html_df298139daccfdd05980ecc366cafa0f);\n",
       "            \n",
       "        \n",
       "\n",
       "        circle_marker_95dfd8e48b28acc819f473731c3bd2b9.bindPopup(popup_21f7b8202d4fcf9450639aeb9a312b60)\n",
       "        ;\n",
       "\n",
       "        \n",
       "    \n",
       "    \n",
       "            var circle_marker_1abb66c9e0fcde13710a6dab79f0947e = L.circleMarker(\n",
       "                [40.765972792809045, -73.97390158910534],\n",
       "                {&quot;bubblingMouseEvents&quot;: true, &quot;color&quot;: &quot;blue&quot;, &quot;dashArray&quot;: null, &quot;dashOffset&quot;: null, &quot;fill&quot;: true, &quot;fillColor&quot;: &quot;blue&quot;, &quot;fillOpacity&quot;: 0.7, &quot;fillRule&quot;: &quot;evenodd&quot;, &quot;lineCap&quot;: &quot;round&quot;, &quot;lineJoin&quot;: &quot;round&quot;, &quot;opacity&quot;: 1.0, &quot;radius&quot;: 45.456900000000005, &quot;stroke&quot;: true, &quot;weight&quot;: 3}\n",
       "            ).addTo(map_36f8c282a82becea274d75234c456bdb);\n",
       "        \n",
       "    \n",
       "        var popup_e4ac08f45b4109bbe13045aa9ce76629 = L.popup({&quot;maxWidth&quot;: &quot;100%&quot;});\n",
       "\n",
       "        \n",
       "            \n",
       "                var html_cf95ced48d99422e626a3c1095e4f7bd = $(`&lt;div id=&quot;html_cf95ced48d99422e626a3c1095e4f7bd&quot; style=&quot;width: 100.0%; height: 100.0%;&quot;&gt;Neighborhood Group: Manhattan&lt;br&gt;Number of Listings: 145852&lt;br&gt;Total Reviews: 454569&lt;/div&gt;`)[0];\n",
       "                popup_e4ac08f45b4109bbe13045aa9ce76629.setContent(html_cf95ced48d99422e626a3c1095e4f7bd);\n",
       "            \n",
       "        \n",
       "\n",
       "        circle_marker_1abb66c9e0fcde13710a6dab79f0947e.bindPopup(popup_e4ac08f45b4109bbe13045aa9ce76629)\n",
       "        ;\n",
       "\n",
       "        \n",
       "    \n",
       "    \n",
       "            var circle_marker_8105518c213ba397c6f65478e4c3e2fc = L.circleMarker(\n",
       "                [40.73138947966768, -73.87118512898994],\n",
       "                {&quot;bubblingMouseEvents&quot;: true, &quot;color&quot;: &quot;red&quot;, &quot;dashArray&quot;: null, &quot;dashOffset&quot;: null, &quot;fill&quot;: true, &quot;fillColor&quot;: &quot;red&quot;, &quot;fillOpacity&quot;: 0.7, &quot;fillRule&quot;: &quot;evenodd&quot;, &quot;lineCap&quot;: &quot;round&quot;, &quot;lineJoin&quot;: &quot;round&quot;, &quot;opacity&quot;: 1.0, &quot;radius&quot;: 15.695, &quot;stroke&quot;: true, &quot;weight&quot;: 3}\n",
       "            ).addTo(map_36f8c282a82becea274d75234c456bdb);\n",
       "        \n",
       "    \n",
       "        var popup_beff9de964f427e7fb2898ec5b65dd11 = L.popup({&quot;maxWidth&quot;: &quot;100%&quot;});\n",
       "\n",
       "        \n",
       "            \n",
       "                var html_37168a91a36c937e97e6c1a3832837c0 = $(`&lt;div id=&quot;html_37168a91a36c937e97e6c1a3832837c0&quot; style=&quot;width: 100.0%; height: 100.0%;&quot;&gt;Neighborhood Group: Queens&lt;br&gt;Number of Listings: 15343&lt;br&gt;Total Reviews: 156950&lt;/div&gt;`)[0];\n",
       "                popup_beff9de964f427e7fb2898ec5b65dd11.setContent(html_37168a91a36c937e97e6c1a3832837c0);\n",
       "            \n",
       "        \n",
       "\n",
       "        circle_marker_8105518c213ba397c6f65478e4c3e2fc.bindPopup(popup_beff9de964f427e7fb2898ec5b65dd11)\n",
       "        ;\n",
       "\n",
       "        \n",
       "    \n",
       "    \n",
       "            var circle_marker_dbcd1aa4c14d0baa3134c6dfb4b69a9a = L.circleMarker(\n",
       "                [40.611206878980894, -74.10483764331211],\n",
       "                {&quot;bubblingMouseEvents&quot;: true, &quot;color&quot;: &quot;purple&quot;, &quot;dashArray&quot;: null, &quot;dashOffset&quot;: null, &quot;fill&quot;: true, &quot;fillColor&quot;: &quot;purple&quot;, &quot;fillOpacity&quot;: 0.7, &quot;fillRule&quot;: &quot;evenodd&quot;, &quot;lineCap&quot;: &quot;round&quot;, &quot;lineJoin&quot;: &quot;round&quot;, &quot;opacity&quot;: 1.0, &quot;radius&quot;: 1.1541000000000001, &quot;stroke&quot;: true, &quot;weight&quot;: 3}\n",
       "            ).addTo(map_36f8c282a82becea274d75234c456bdb);\n",
       "        \n",
       "    \n",
       "        var popup_aa42bc7d8f3fbc2b2f22d52e195a0a84 = L.popup({&quot;maxWidth&quot;: &quot;100%&quot;});\n",
       "\n",
       "        \n",
       "            \n",
       "                var html_609ec8be1a211a2eadd13cd2e96b05dc = $(`&lt;div id=&quot;html_609ec8be1a211a2eadd13cd2e96b05dc&quot; style=&quot;width: 100.0%; height: 100.0%;&quot;&gt;Neighborhood Group: Staten Island&lt;br&gt;Number of Listings: 750&lt;br&gt;Total Reviews: 11541&lt;/div&gt;`)[0];\n",
       "                popup_aa42bc7d8f3fbc2b2f22d52e195a0a84.setContent(html_609ec8be1a211a2eadd13cd2e96b05dc);\n",
       "            \n",
       "        \n",
       "\n",
       "        circle_marker_dbcd1aa4c14d0baa3134c6dfb4b69a9a.bindPopup(popup_aa42bc7d8f3fbc2b2f22d52e195a0a84)\n",
       "        ;\n",
       "\n",
       "        \n",
       "    \n",
       "&lt;/script&gt;\n",
       "&lt;/html&gt;\" style=\"position:absolute;width:100%;height:100%;left:0;top:0;border:none !important;\" allowfullscreen webkitallowfullscreen mozallowfullscreen></iframe></div></div>"
      ],
      "text/plain": [
       "<folium.folium.Map at 0x7a13a3f75f30>"
      ]
     },
     "execution_count": 24,
     "metadata": {},
     "output_type": "execute_result"
    }
   ],
   "source": [
    "import folium\n",
    "\n",
    "neighborhood_stats = df_filtered.groupby('neighbourhood_group').agg({\n",
    "    'latitude': 'mean',\n",
    "    'longitude': 'mean',\n",
    "    'calculated_host_listings_count': 'sum',\n",
    "    'number_of_reviews': 'sum'\n",
    "}).reset_index()\n",
    "\n",
    "Neighborhood_sorted = neighborhood_stats.sort_values('number_of_reviews', ascending=False)\n",
    "Neigh_table = Neighborhood_sorted[['neighbourhood_group','calculated_host_listings_count','number_of_reviews']]\n",
    "\n",
    "# Print neighborhood_stats for debugging\n",
    "print(\"Aggregated Neighborhood Stats:\")\n",
    "print(Neigh_table)\n",
    "\n",
    "# Create a Folium map centered around New York City\n",
    "map_center = (40.7128, -74.0060)  # Coordinates for New York City\n",
    "map_nyc = folium.Map(location=map_center, zoom_start=11, tiles='OpenStreetMap', attr='Map data © OpenStreetMap contributors',width='100%', height='600px')\n",
    "\n",
    "neighborhood_colors = {\n",
    "    'Manhattan': 'blue',\n",
    "    'Brooklyn': 'green',\n",
    "    'Queens': 'red',\n",
    "    'Bronx': 'orange',\n",
    "    'Staten Island': 'purple'\n",
    "}\n",
    "\n",
    "for index, row in neighborhood_stats.iterrows():\n",
    "    neighborhood_group = row['neighbourhood_group']\n",
    "    color = neighborhood_colors.get(neighborhood_group, 'gray')  # Default to gray if not found\n",
    "    size = row['number_of_reviews'] * 0.0001  # Adjust size as needed\n",
    "\n",
    "    popup_text = f\"Neighborhood Group: {neighborhood_group}<br>\" \\\n",
    "                 f\"Number of Listings: {row['calculated_host_listings_count']}<br>\" \\\n",
    "                 f\"Total Reviews: {row['number_of_reviews']}\"\n",
    "\n",
    "    folium.CircleMarker(\n",
    "        location=[row['latitude'], row['longitude']],\n",
    "        radius=size,\n",
    "        popup=popup_text,\n",
    "        color=color,\n",
    "        fill=True,\n",
    "        fill_color=color,\n",
    "        fill_opacity=0.7,\n",
    "    ).add_to(map_nyc)\n",
    "\n",
    "# Display the map inline in the notebook\n",
    "map_nyc"
   ]
  },
  {
   "cell_type": "markdown",
   "id": "fc013a38",
   "metadata": {
    "papermill": {
     "duration": 0.018085,
     "end_time": "2024-07-13T15:48:19.579277",
     "exception": false,
     "start_time": "2024-07-13T15:48:19.561192",
     "status": "completed"
    },
    "tags": []
   },
   "source": [
    "So it's obvious that Brooklyn and Manhattan have the highest reviews and number of listings."
   ]
  },
  {
   "cell_type": "markdown",
   "id": "78a9addc",
   "metadata": {
    "papermill": {
     "duration": 0.017939,
     "end_time": "2024-07-13T15:48:19.615740",
     "exception": false,
     "start_time": "2024-07-13T15:48:19.597801",
     "status": "completed"
    },
    "tags": []
   },
   "source": [
    "**5- Are there emerging neighborhoods that show potential for growth in Airbnb listings and tourism?**"
   ]
  },
  {
   "cell_type": "code",
   "execution_count": 25,
   "id": "51b5efdd",
   "metadata": {
    "execution": {
     "iopub.execute_input": "2024-07-13T15:48:19.655010Z",
     "iopub.status.busy": "2024-07-13T15:48:19.653822Z",
     "iopub.status.idle": "2024-07-13T15:48:19.679789Z",
     "shell.execute_reply": "2024-07-13T15:48:19.678540Z"
    },
    "papermill": {
     "duration": 0.048033,
     "end_time": "2024-07-13T15:48:19.682215",
     "exception": false,
     "start_time": "2024-07-13T15:48:19.634182",
     "status": "completed"
    },
    "tags": []
   },
   "outputs": [
    {
     "name": "stdout",
     "output_type": "stream",
     "text": [
      "<class 'pandas.core.frame.DataFrame'>\n",
      "Index: 38833 entries, 0 to 38842\n",
      "Data columns (total 18 columns):\n",
      " #   Column                          Non-Null Count  Dtype  \n",
      "---  ------                          --------------  -----  \n",
      " 0   id                              38833 non-null  int64  \n",
      " 1   name                            38827 non-null  object \n",
      " 2   host_id                         38833 non-null  int64  \n",
      " 3   host_name                       38817 non-null  object \n",
      " 4   neighbourhood_group             38833 non-null  object \n",
      " 5   neighbourhood                   38833 non-null  object \n",
      " 6   latitude                        38833 non-null  float64\n",
      " 7   longitude                       38833 non-null  float64\n",
      " 8   room_type                       38833 non-null  object \n",
      " 9   price                           38833 non-null  int64  \n",
      " 10  minimum_nights                  38833 non-null  int64  \n",
      " 11  number_of_reviews               38833 non-null  int64  \n",
      " 12  last_review                     38833 non-null  object \n",
      " 13  reviews_per_month               38833 non-null  float64\n",
      " 14  calculated_host_listings_count  38833 non-null  int64  \n",
      " 15  availability_365                38833 non-null  int64  \n",
      " 16  minimum_nights_capped           38833 non-null  int64  \n",
      " 17  occupancy_rate                  38833 non-null  float64\n",
      "dtypes: float64(4), int64(8), object(6)\n",
      "memory usage: 6.6+ MB\n",
      "0        2018-10-19\n",
      "1        2019-05-21\n",
      "2        2019-07-05\n",
      "3        2018-11-19\n",
      "4        2019-06-22\n",
      "            ...    \n",
      "38838    2019-07-07\n",
      "38839    2019-07-07\n",
      "38840    2019-07-07\n",
      "38841    2019-07-07\n",
      "38842    2019-07-08\n",
      "Name: last_review, Length: 38833, dtype: object\n"
     ]
    }
   ],
   "source": [
    "df_filtered.info()\n",
    "print(df_filtered['last_review'])"
   ]
  },
  {
   "cell_type": "markdown",
   "id": "33b47701",
   "metadata": {
    "papermill": {
     "duration": 0.0187,
     "end_time": "2024-07-13T15:48:19.719621",
     "exception": false,
     "start_time": "2024-07-13T15:48:19.700921",
     "status": "completed"
    },
    "tags": []
   },
   "source": [
    "here is where I'll need to convert my last_review column to datetime instead of object. I will extract the Year and Month as well."
   ]
  },
  {
   "cell_type": "code",
   "execution_count": 26,
   "id": "605f3a72",
   "metadata": {
    "execution": {
     "iopub.execute_input": "2024-07-13T15:48:19.758612Z",
     "iopub.status.busy": "2024-07-13T15:48:19.758243Z",
     "iopub.status.idle": "2024-07-13T15:48:19.780633Z",
     "shell.execute_reply": "2024-07-13T15:48:19.779621Z"
    },
    "papermill": {
     "duration": 0.044796,
     "end_time": "2024-07-13T15:48:19.783250",
     "exception": false,
     "start_time": "2024-07-13T15:48:19.738454",
     "status": "completed"
    },
    "tags": []
   },
   "outputs": [],
   "source": [
    "df_filtered['last_review'] = pd.to_datetime(df_filtered['last_review'], errors='coerce')\n",
    "\n",
    "df_filtered['year'] = df_filtered['last_review'].dt.year\n",
    "df_filtered['month'] = df_filtered['last_review'].dt.month"
   ]
  },
  {
   "cell_type": "markdown",
   "id": "53a24e1b",
   "metadata": {
    "papermill": {
     "duration": 0.018118,
     "end_time": "2024-07-13T15:48:19.823598",
     "exception": false,
     "start_time": "2024-07-13T15:48:19.805480",
     "status": "completed"
    },
    "tags": []
   },
   "source": [
    "Next I'm going to group the data per neighborhood group to see their performance accross year,months in a line chart."
   ]
  },
  {
   "cell_type": "code",
   "execution_count": 27,
   "id": "52299953",
   "metadata": {
    "execution": {
     "iopub.execute_input": "2024-07-13T15:48:19.863519Z",
     "iopub.status.busy": "2024-07-13T15:48:19.863166Z",
     "iopub.status.idle": "2024-07-13T15:48:19.890872Z",
     "shell.execute_reply": "2024-07-13T15:48:19.889605Z"
    },
    "papermill": {
     "duration": 0.051044,
     "end_time": "2024-07-13T15:48:19.893495",
     "exception": false,
     "start_time": "2024-07-13T15:48:19.842451",
     "status": "completed"
    },
    "tags": []
   },
   "outputs": [
    {
     "name": "stdout",
     "output_type": "stream",
     "text": [
      "<class 'pandas.core.frame.DataFrame'>\n",
      "Index: 308 entries, 47 to 307\n",
      "Data columns (total 8 columns):\n",
      " #   Column                          Non-Null Count  Dtype  \n",
      "---  ------                          --------------  -----  \n",
      " 0   neighbourhood_group             308 non-null    object \n",
      " 1   year                            308 non-null    int32  \n",
      " 2   month                           308 non-null    int32  \n",
      " 3   reviews_per_month               308 non-null    float64\n",
      " 4   price                           308 non-null    float64\n",
      " 5   calculated_host_listings_count  308 non-null    int64  \n",
      " 6   occupancy_rate                  308 non-null    float64\n",
      " 7   year_month                      308 non-null    object \n",
      "dtypes: float64(3), int32(2), int64(1), object(2)\n",
      "memory usage: 19.2+ KB\n"
     ]
    }
   ],
   "source": [
    "monthly_performance = df_filtered.groupby(['neighbourhood_group','year','month']).agg({\n",
    "    'reviews_per_month':'sum',\n",
    "    'price':'mean',\n",
    "    'calculated_host_listings_count':'sum',\n",
    "    'occupancy_rate':'mean'\n",
    "}).reset_index()\n",
    "\n",
    "monthly_performance = monthly_performance.sort_values(by=['year', 'month'])\n",
    "monthly_performance['year_month'] = monthly_performance['year'].astype(str) + '-' + monthly_performance['month'].astype(str).str.zfill(2)\n",
    "monthly_performance.info()"
   ]
  },
  {
   "cell_type": "code",
   "execution_count": 28,
   "id": "208aeb0a",
   "metadata": {
    "execution": {
     "iopub.execute_input": "2024-07-13T15:48:19.932285Z",
     "iopub.status.busy": "2024-07-13T15:48:19.931875Z",
     "iopub.status.idle": "2024-07-13T15:48:20.254627Z",
     "shell.execute_reply": "2024-07-13T15:48:20.253466Z"
    },
    "papermill": {
     "duration": 0.345008,
     "end_time": "2024-07-13T15:48:20.257133",
     "exception": false,
     "start_time": "2024-07-13T15:48:19.912125",
     "status": "completed"
    },
    "tags": []
   },
   "outputs": [
    {
     "data": {
      "text/html": [
       "<div>                            <div id=\"a2361543-08db-44ce-905a-cd73fa1b15a9\" class=\"plotly-graph-div\" style=\"height:525px; width:100%;\"></div>            <script type=\"text/javascript\">                require([\"plotly\"], function(Plotly) {                    window.PLOTLYENV=window.PLOTLYENV || {};                                    if (document.getElementById(\"a2361543-08db-44ce-905a-cd73fa1b15a9\")) {                    Plotly.newPlot(                        \"a2361543-08db-44ce-905a-cd73fa1b15a9\",                        [{\"hovertemplate\":\"\\u003cb\\u003e%{hovertext}\\u003c\\u002fb\\u003e\\u003cbr\\u003e\\u003cbr\\u003eNeighbourhood Group=Bronx\\u003cbr\\u003eYear-Month=%{x}\\u003cbr\\u003eNumber of Reviews=%{y}\\u003cextra\\u003e\\u003c\\u002fextra\\u003e\",\"hovertext\":[\"Bronx\",\"Bronx\",\"Bronx\",\"Bronx\",\"Bronx\",\"Bronx\",\"Bronx\",\"Bronx\",\"Bronx\",\"Bronx\",\"Bronx\",\"Bronx\",\"Bronx\",\"Bronx\",\"Bronx\",\"Bronx\",\"Bronx\",\"Bronx\",\"Bronx\",\"Bronx\",\"Bronx\",\"Bronx\",\"Bronx\",\"Bronx\",\"Bronx\",\"Bronx\",\"Bronx\",\"Bronx\",\"Bronx\",\"Bronx\"],\"legendgroup\":\"Bronx\",\"line\":{\"color\":\"#636efa\",\"dash\":\"solid\"},\"marker\":{\"symbol\":\"circle\"},\"mode\":\"lines\",\"name\":\"Bronx\",\"orientation\":\"v\",\"showlegend\":true,\"x\":[\"2017-01\",\"2017-02\",\"2017-04\",\"2017-05\",\"2017-06\",\"2017-07\",\"2017-08\",\"2017-09\",\"2017-10\",\"2017-11\",\"2017-12\",\"2018-01\",\"2018-02\",\"2018-03\",\"2018-04\",\"2018-05\",\"2018-06\",\"2018-07\",\"2018-08\",\"2018-09\",\"2018-10\",\"2018-11\",\"2018-12\",\"2019-01\",\"2019-02\",\"2019-03\",\"2019-04\",\"2019-05\",\"2019-06\",\"2019-07\"],\"xaxis\":\"x\",\"y\":[1.76,1.11,0.5,0.37,0.59,0.16,0.76,0.89,0.97,1.59,1.98,3.79,1.64,0.6799999999999999,0.24,1.75,3.0100000000000002,3.15,5.859999999999999,5.22,8.02,7.56,11.91,28.13,3.0300000000000002,10.9,25.24,120.69,921.02,432.73],\"yaxis\":\"y\",\"type\":\"scatter\"},{\"hovertemplate\":\"\\u003cb\\u003e%{hovertext}\\u003c\\u002fb\\u003e\\u003cbr\\u003e\\u003cbr\\u003eNeighbourhood Group=Brooklyn\\u003cbr\\u003eYear-Month=%{x}\\u003cbr\\u003eNumber of Reviews=%{y}\\u003cextra\\u003e\\u003c\\u002fextra\\u003e\",\"hovertext\":[\"Brooklyn\",\"Brooklyn\",\"Brooklyn\",\"Brooklyn\",\"Brooklyn\",\"Brooklyn\",\"Brooklyn\",\"Brooklyn\",\"Brooklyn\",\"Brooklyn\",\"Brooklyn\",\"Brooklyn\",\"Brooklyn\",\"Brooklyn\",\"Brooklyn\",\"Brooklyn\",\"Brooklyn\",\"Brooklyn\",\"Brooklyn\",\"Brooklyn\",\"Brooklyn\",\"Brooklyn\",\"Brooklyn\",\"Brooklyn\",\"Brooklyn\",\"Brooklyn\",\"Brooklyn\",\"Brooklyn\",\"Brooklyn\",\"Brooklyn\",\"Brooklyn\"],\"legendgroup\":\"Brooklyn\",\"line\":{\"color\":\"#EF553B\",\"dash\":\"solid\"},\"marker\":{\"symbol\":\"circle\"},\"mode\":\"lines\",\"name\":\"Brooklyn\",\"orientation\":\"v\",\"showlegend\":true,\"x\":[\"2017-01\",\"2017-02\",\"2017-03\",\"2017-04\",\"2017-05\",\"2017-06\",\"2017-07\",\"2017-08\",\"2017-09\",\"2017-10\",\"2017-11\",\"2017-12\",\"2018-01\",\"2018-02\",\"2018-03\",\"2018-04\",\"2018-05\",\"2018-06\",\"2018-07\",\"2018-08\",\"2018-09\",\"2018-10\",\"2018-11\",\"2018-12\",\"2019-01\",\"2019-02\",\"2019-03\",\"2019-04\",\"2019-05\",\"2019-06\",\"2019-07\"],\"xaxis\":\"x\",\"y\":[24.9,3.66,8.26,16.03,25.23,18.85,30.74,35.96,37.96,31.03,30.82,46.3,58.22,16.04,36.13,43.65,50.38,64.57000000000001,84.09,99.51,113.84,141.79,115.66,178.96,349.25,142.26,229.03,469.68,1571.75,11109.81,5726.74],\"yaxis\":\"y\",\"type\":\"scatter\"},{\"hovertemplate\":\"\\u003cb\\u003e%{hovertext}\\u003c\\u002fb\\u003e\\u003cbr\\u003e\\u003cbr\\u003eNeighbourhood Group=Manhattan\\u003cbr\\u003eYear-Month=%{x}\\u003cbr\\u003eNumber of Reviews=%{y}\\u003cextra\\u003e\\u003c\\u002fextra\\u003e\",\"hovertext\":[\"Manhattan\",\"Manhattan\",\"Manhattan\",\"Manhattan\",\"Manhattan\",\"Manhattan\",\"Manhattan\",\"Manhattan\",\"Manhattan\",\"Manhattan\",\"Manhattan\",\"Manhattan\",\"Manhattan\",\"Manhattan\",\"Manhattan\",\"Manhattan\",\"Manhattan\",\"Manhattan\",\"Manhattan\",\"Manhattan\",\"Manhattan\",\"Manhattan\",\"Manhattan\",\"Manhattan\",\"Manhattan\",\"Manhattan\",\"Manhattan\",\"Manhattan\",\"Manhattan\",\"Manhattan\",\"Manhattan\"],\"legendgroup\":\"Manhattan\",\"line\":{\"color\":\"#00cc96\",\"dash\":\"solid\"},\"marker\":{\"symbol\":\"circle\"},\"mode\":\"lines\",\"name\":\"Manhattan\",\"orientation\":\"v\",\"showlegend\":true,\"x\":[\"2017-01\",\"2017-02\",\"2017-03\",\"2017-04\",\"2017-05\",\"2017-06\",\"2017-07\",\"2017-08\",\"2017-09\",\"2017-10\",\"2017-11\",\"2017-12\",\"2018-01\",\"2018-02\",\"2018-03\",\"2018-04\",\"2018-05\",\"2018-06\",\"2018-07\",\"2018-08\",\"2018-09\",\"2018-10\",\"2018-11\",\"2018-12\",\"2019-01\",\"2019-02\",\"2019-03\",\"2019-04\",\"2019-05\",\"2019-06\",\"2019-07\"],\"xaxis\":\"x\",\"y\":[28.57,6.75,10.28,13.46,30.86,25.25,29.5,34.15,28.16,33.36,23.26,47.83,71.21,20.330000000000002,28.36,48.6,63.19,70.01,75.04,98.79,102.96000000000001,126.04,107.19,247.23,307.98,114.17999999999999,214.71,441.85,1666.79,11597.73,5212.28],\"yaxis\":\"y\",\"type\":\"scatter\"},{\"hovertemplate\":\"\\u003cb\\u003e%{hovertext}\\u003c\\u002fb\\u003e\\u003cbr\\u003e\\u003cbr\\u003eNeighbourhood Group=Queens\\u003cbr\\u003eYear-Month=%{x}\\u003cbr\\u003eNumber of Reviews=%{y}\\u003cextra\\u003e\\u003c\\u002fextra\\u003e\",\"hovertext\":[\"Queens\",\"Queens\",\"Queens\",\"Queens\",\"Queens\",\"Queens\",\"Queens\",\"Queens\",\"Queens\",\"Queens\",\"Queens\",\"Queens\",\"Queens\",\"Queens\",\"Queens\",\"Queens\",\"Queens\",\"Queens\",\"Queens\",\"Queens\",\"Queens\",\"Queens\",\"Queens\",\"Queens\",\"Queens\",\"Queens\",\"Queens\",\"Queens\",\"Queens\",\"Queens\",\"Queens\"],\"legendgroup\":\"Queens\",\"line\":{\"color\":\"#ab63fa\",\"dash\":\"solid\"},\"marker\":{\"symbol\":\"circle\"},\"mode\":\"lines\",\"name\":\"Queens\",\"orientation\":\"v\",\"showlegend\":true,\"x\":[\"2017-01\",\"2017-02\",\"2017-03\",\"2017-04\",\"2017-05\",\"2017-06\",\"2017-07\",\"2017-08\",\"2017-09\",\"2017-10\",\"2017-11\",\"2017-12\",\"2018-01\",\"2018-02\",\"2018-03\",\"2018-04\",\"2018-05\",\"2018-06\",\"2018-07\",\"2018-08\",\"2018-09\",\"2018-10\",\"2018-11\",\"2018-12\",\"2019-01\",\"2019-02\",\"2019-03\",\"2019-04\",\"2019-05\",\"2019-06\",\"2019-07\"],\"xaxis\":\"x\",\"y\":[4.7,0.9400000000000001,3.0,3.8,1.82,5.35,7.27,5.7,11.5,11.0,4.5600000000000005,9.879999999999999,12.01,3.0,3.05,14.48,8.09,14.719999999999999,16.86,28.26,37.14,40.65,55.92,62.24,100.32000000000001,47.46,79.52,150.18,488.73,4307.45,3310.71],\"yaxis\":\"y\",\"type\":\"scatter\"},{\"hovertemplate\":\"\\u003cb\\u003e%{hovertext}\\u003c\\u002fb\\u003e\\u003cbr\\u003e\\u003cbr\\u003eNeighbourhood Group=Staten Island\\u003cbr\\u003eYear-Month=%{x}\\u003cbr\\u003eNumber of Reviews=%{y}\\u003cextra\\u003e\\u003c\\u002fextra\\u003e\",\"hovertext\":[\"Staten Island\",\"Staten Island\",\"Staten Island\",\"Staten Island\",\"Staten Island\",\"Staten Island\",\"Staten Island\",\"Staten Island\",\"Staten Island\",\"Staten Island\",\"Staten Island\",\"Staten Island\",\"Staten Island\",\"Staten Island\",\"Staten Island\",\"Staten Island\",\"Staten Island\",\"Staten Island\",\"Staten Island\"],\"legendgroup\":\"Staten Island\",\"line\":{\"color\":\"#FFA15A\",\"dash\":\"solid\"},\"marker\":{\"symbol\":\"circle\"},\"mode\":\"lines\",\"name\":\"Staten Island\",\"orientation\":\"v\",\"showlegend\":true,\"x\":[\"2017-01\",\"2017-03\",\"2017-08\",\"2017-09\",\"2018-02\",\"2018-04\",\"2018-07\",\"2018-08\",\"2018-09\",\"2018-10\",\"2018-11\",\"2018-12\",\"2019-01\",\"2019-02\",\"2019-03\",\"2019-04\",\"2019-05\",\"2019-06\",\"2019-07\"],\"xaxis\":\"x\",\"y\":[0.06,0.14,0.86,0.53,0.11,0.07,0.33,0.77,5.61,5.18,3.0,2.47,6.49,2.69,2.7800000000000002,7.569999999999999,41.84,273.81,233.25],\"yaxis\":\"y\",\"type\":\"scatter\"}],                        {\"template\":{\"data\":{\"histogram2dcontour\":[{\"type\":\"histogram2dcontour\",\"colorbar\":{\"outlinewidth\":0,\"ticks\":\"\"},\"colorscale\":[[0.0,\"#0d0887\"],[0.1111111111111111,\"#46039f\"],[0.2222222222222222,\"#7201a8\"],[0.3333333333333333,\"#9c179e\"],[0.4444444444444444,\"#bd3786\"],[0.5555555555555556,\"#d8576b\"],[0.6666666666666666,\"#ed7953\"],[0.7777777777777778,\"#fb9f3a\"],[0.8888888888888888,\"#fdca26\"],[1.0,\"#f0f921\"]]}],\"choropleth\":[{\"type\":\"choropleth\",\"colorbar\":{\"outlinewidth\":0,\"ticks\":\"\"}}],\"histogram2d\":[{\"type\":\"histogram2d\",\"colorbar\":{\"outlinewidth\":0,\"ticks\":\"\"},\"colorscale\":[[0.0,\"#0d0887\"],[0.1111111111111111,\"#46039f\"],[0.2222222222222222,\"#7201a8\"],[0.3333333333333333,\"#9c179e\"],[0.4444444444444444,\"#bd3786\"],[0.5555555555555556,\"#d8576b\"],[0.6666666666666666,\"#ed7953\"],[0.7777777777777778,\"#fb9f3a\"],[0.8888888888888888,\"#fdca26\"],[1.0,\"#f0f921\"]]}],\"heatmap\":[{\"type\":\"heatmap\",\"colorbar\":{\"outlinewidth\":0,\"ticks\":\"\"},\"colorscale\":[[0.0,\"#0d0887\"],[0.1111111111111111,\"#46039f\"],[0.2222222222222222,\"#7201a8\"],[0.3333333333333333,\"#9c179e\"],[0.4444444444444444,\"#bd3786\"],[0.5555555555555556,\"#d8576b\"],[0.6666666666666666,\"#ed7953\"],[0.7777777777777778,\"#fb9f3a\"],[0.8888888888888888,\"#fdca26\"],[1.0,\"#f0f921\"]]}],\"heatmapgl\":[{\"type\":\"heatmapgl\",\"colorbar\":{\"outlinewidth\":0,\"ticks\":\"\"},\"colorscale\":[[0.0,\"#0d0887\"],[0.1111111111111111,\"#46039f\"],[0.2222222222222222,\"#7201a8\"],[0.3333333333333333,\"#9c179e\"],[0.4444444444444444,\"#bd3786\"],[0.5555555555555556,\"#d8576b\"],[0.6666666666666666,\"#ed7953\"],[0.7777777777777778,\"#fb9f3a\"],[0.8888888888888888,\"#fdca26\"],[1.0,\"#f0f921\"]]}],\"contourcarpet\":[{\"type\":\"contourcarpet\",\"colorbar\":{\"outlinewidth\":0,\"ticks\":\"\"}}],\"contour\":[{\"type\":\"contour\",\"colorbar\":{\"outlinewidth\":0,\"ticks\":\"\"},\"colorscale\":[[0.0,\"#0d0887\"],[0.1111111111111111,\"#46039f\"],[0.2222222222222222,\"#7201a8\"],[0.3333333333333333,\"#9c179e\"],[0.4444444444444444,\"#bd3786\"],[0.5555555555555556,\"#d8576b\"],[0.6666666666666666,\"#ed7953\"],[0.7777777777777778,\"#fb9f3a\"],[0.8888888888888888,\"#fdca26\"],[1.0,\"#f0f921\"]]}],\"surface\":[{\"type\":\"surface\",\"colorbar\":{\"outlinewidth\":0,\"ticks\":\"\"},\"colorscale\":[[0.0,\"#0d0887\"],[0.1111111111111111,\"#46039f\"],[0.2222222222222222,\"#7201a8\"],[0.3333333333333333,\"#9c179e\"],[0.4444444444444444,\"#bd3786\"],[0.5555555555555556,\"#d8576b\"],[0.6666666666666666,\"#ed7953\"],[0.7777777777777778,\"#fb9f3a\"],[0.8888888888888888,\"#fdca26\"],[1.0,\"#f0f921\"]]}],\"mesh3d\":[{\"type\":\"mesh3d\",\"colorbar\":{\"outlinewidth\":0,\"ticks\":\"\"}}],\"scatter\":[{\"fillpattern\":{\"fillmode\":\"overlay\",\"size\":10,\"solidity\":0.2},\"type\":\"scatter\"}],\"parcoords\":[{\"type\":\"parcoords\",\"line\":{\"colorbar\":{\"outlinewidth\":0,\"ticks\":\"\"}}}],\"scatterpolargl\":[{\"type\":\"scatterpolargl\",\"marker\":{\"colorbar\":{\"outlinewidth\":0,\"ticks\":\"\"}}}],\"bar\":[{\"error_x\":{\"color\":\"#2a3f5f\"},\"error_y\":{\"color\":\"#2a3f5f\"},\"marker\":{\"line\":{\"color\":\"#E5ECF6\",\"width\":0.5},\"pattern\":{\"fillmode\":\"overlay\",\"size\":10,\"solidity\":0.2}},\"type\":\"bar\"}],\"scattergeo\":[{\"type\":\"scattergeo\",\"marker\":{\"colorbar\":{\"outlinewidth\":0,\"ticks\":\"\"}}}],\"scatterpolar\":[{\"type\":\"scatterpolar\",\"marker\":{\"colorbar\":{\"outlinewidth\":0,\"ticks\":\"\"}}}],\"histogram\":[{\"marker\":{\"pattern\":{\"fillmode\":\"overlay\",\"size\":10,\"solidity\":0.2}},\"type\":\"histogram\"}],\"scattergl\":[{\"type\":\"scattergl\",\"marker\":{\"colorbar\":{\"outlinewidth\":0,\"ticks\":\"\"}}}],\"scatter3d\":[{\"type\":\"scatter3d\",\"line\":{\"colorbar\":{\"outlinewidth\":0,\"ticks\":\"\"}},\"marker\":{\"colorbar\":{\"outlinewidth\":0,\"ticks\":\"\"}}}],\"scattermapbox\":[{\"type\":\"scattermapbox\",\"marker\":{\"colorbar\":{\"outlinewidth\":0,\"ticks\":\"\"}}}],\"scatterternary\":[{\"type\":\"scatterternary\",\"marker\":{\"colorbar\":{\"outlinewidth\":0,\"ticks\":\"\"}}}],\"scattercarpet\":[{\"type\":\"scattercarpet\",\"marker\":{\"colorbar\":{\"outlinewidth\":0,\"ticks\":\"\"}}}],\"carpet\":[{\"aaxis\":{\"endlinecolor\":\"#2a3f5f\",\"gridcolor\":\"white\",\"linecolor\":\"white\",\"minorgridcolor\":\"white\",\"startlinecolor\":\"#2a3f5f\"},\"baxis\":{\"endlinecolor\":\"#2a3f5f\",\"gridcolor\":\"white\",\"linecolor\":\"white\",\"minorgridcolor\":\"white\",\"startlinecolor\":\"#2a3f5f\"},\"type\":\"carpet\"}],\"table\":[{\"cells\":{\"fill\":{\"color\":\"#EBF0F8\"},\"line\":{\"color\":\"white\"}},\"header\":{\"fill\":{\"color\":\"#C8D4E3\"},\"line\":{\"color\":\"white\"}},\"type\":\"table\"}],\"barpolar\":[{\"marker\":{\"line\":{\"color\":\"#E5ECF6\",\"width\":0.5},\"pattern\":{\"fillmode\":\"overlay\",\"size\":10,\"solidity\":0.2}},\"type\":\"barpolar\"}],\"pie\":[{\"automargin\":true,\"type\":\"pie\"}]},\"layout\":{\"autotypenumbers\":\"strict\",\"colorway\":[\"#636efa\",\"#EF553B\",\"#00cc96\",\"#ab63fa\",\"#FFA15A\",\"#19d3f3\",\"#FF6692\",\"#B6E880\",\"#FF97FF\",\"#FECB52\"],\"font\":{\"color\":\"#2a3f5f\"},\"hovermode\":\"closest\",\"hoverlabel\":{\"align\":\"left\"},\"paper_bgcolor\":\"white\",\"plot_bgcolor\":\"#E5ECF6\",\"polar\":{\"bgcolor\":\"#E5ECF6\",\"angularaxis\":{\"gridcolor\":\"white\",\"linecolor\":\"white\",\"ticks\":\"\"},\"radialaxis\":{\"gridcolor\":\"white\",\"linecolor\":\"white\",\"ticks\":\"\"}},\"ternary\":{\"bgcolor\":\"#E5ECF6\",\"aaxis\":{\"gridcolor\":\"white\",\"linecolor\":\"white\",\"ticks\":\"\"},\"baxis\":{\"gridcolor\":\"white\",\"linecolor\":\"white\",\"ticks\":\"\"},\"caxis\":{\"gridcolor\":\"white\",\"linecolor\":\"white\",\"ticks\":\"\"}},\"coloraxis\":{\"colorbar\":{\"outlinewidth\":0,\"ticks\":\"\"}},\"colorscale\":{\"sequential\":[[0.0,\"#0d0887\"],[0.1111111111111111,\"#46039f\"],[0.2222222222222222,\"#7201a8\"],[0.3333333333333333,\"#9c179e\"],[0.4444444444444444,\"#bd3786\"],[0.5555555555555556,\"#d8576b\"],[0.6666666666666666,\"#ed7953\"],[0.7777777777777778,\"#fb9f3a\"],[0.8888888888888888,\"#fdca26\"],[1.0,\"#f0f921\"]],\"sequentialminus\":[[0.0,\"#0d0887\"],[0.1111111111111111,\"#46039f\"],[0.2222222222222222,\"#7201a8\"],[0.3333333333333333,\"#9c179e\"],[0.4444444444444444,\"#bd3786\"],[0.5555555555555556,\"#d8576b\"],[0.6666666666666666,\"#ed7953\"],[0.7777777777777778,\"#fb9f3a\"],[0.8888888888888888,\"#fdca26\"],[1.0,\"#f0f921\"]],\"diverging\":[[0,\"#8e0152\"],[0.1,\"#c51b7d\"],[0.2,\"#de77ae\"],[0.3,\"#f1b6da\"],[0.4,\"#fde0ef\"],[0.5,\"#f7f7f7\"],[0.6,\"#e6f5d0\"],[0.7,\"#b8e186\"],[0.8,\"#7fbc41\"],[0.9,\"#4d9221\"],[1,\"#276419\"]]},\"xaxis\":{\"gridcolor\":\"white\",\"linecolor\":\"white\",\"ticks\":\"\",\"title\":{\"standoff\":15},\"zerolinecolor\":\"white\",\"automargin\":true,\"zerolinewidth\":2},\"yaxis\":{\"gridcolor\":\"white\",\"linecolor\":\"white\",\"ticks\":\"\",\"title\":{\"standoff\":15},\"zerolinecolor\":\"white\",\"automargin\":true,\"zerolinewidth\":2},\"scene\":{\"xaxis\":{\"backgroundcolor\":\"#E5ECF6\",\"gridcolor\":\"white\",\"linecolor\":\"white\",\"showbackground\":true,\"ticks\":\"\",\"zerolinecolor\":\"white\",\"gridwidth\":2},\"yaxis\":{\"backgroundcolor\":\"#E5ECF6\",\"gridcolor\":\"white\",\"linecolor\":\"white\",\"showbackground\":true,\"ticks\":\"\",\"zerolinecolor\":\"white\",\"gridwidth\":2},\"zaxis\":{\"backgroundcolor\":\"#E5ECF6\",\"gridcolor\":\"white\",\"linecolor\":\"white\",\"showbackground\":true,\"ticks\":\"\",\"zerolinecolor\":\"white\",\"gridwidth\":2}},\"shapedefaults\":{\"line\":{\"color\":\"#2a3f5f\"}},\"annotationdefaults\":{\"arrowcolor\":\"#2a3f5f\",\"arrowhead\":0,\"arrowwidth\":1},\"geo\":{\"bgcolor\":\"white\",\"landcolor\":\"#E5ECF6\",\"subunitcolor\":\"white\",\"showland\":true,\"showlakes\":true,\"lakecolor\":\"white\"},\"title\":{\"x\":0.05},\"mapbox\":{\"style\":\"light\"}}},\"xaxis\":{\"anchor\":\"y\",\"domain\":[0.0,1.0],\"title\":{\"text\":\"Year-Month\"}},\"yaxis\":{\"anchor\":\"x\",\"domain\":[0.0,1.0],\"title\":{\"text\":\"Number of Reviews\"}},\"legend\":{\"title\":{\"text\":\"Neighbourhood Group\"},\"tracegroupgap\":0},\"title\":{\"text\":\"Monthly Number of Reviews by Neighborhood Group (Last Three Years)\"}},                        {\"responsive\": true}                    ).then(function(){\n",
       "                            \n",
       "var gd = document.getElementById('a2361543-08db-44ce-905a-cd73fa1b15a9');\n",
       "var x = new MutationObserver(function (mutations, observer) {{\n",
       "        var display = window.getComputedStyle(gd).display;\n",
       "        if (!display || display === 'none') {{\n",
       "            console.log([gd, 'removed!']);\n",
       "            Plotly.purge(gd);\n",
       "            observer.disconnect();\n",
       "        }}\n",
       "}});\n",
       "\n",
       "// Listen for the removal of the full notebook cells\n",
       "var notebookContainer = gd.closest('#notebook-container');\n",
       "if (notebookContainer) {{\n",
       "    x.observe(notebookContainer, {childList: true});\n",
       "}}\n",
       "\n",
       "// Listen for the clearing of the current output cell\n",
       "var outputEl = gd.closest('.output');\n",
       "if (outputEl) {{\n",
       "    x.observe(outputEl, {childList: true});\n",
       "}}\n",
       "\n",
       "                        })                };                });            </script>        </div>"
      ]
     },
     "metadata": {},
     "output_type": "display_data"
    },
    {
     "data": {
      "text/html": [
       "<div>                            <div id=\"61719ecd-a8c8-46af-b7f4-e80c5896a665\" class=\"plotly-graph-div\" style=\"height:525px; width:100%;\"></div>            <script type=\"text/javascript\">                require([\"plotly\"], function(Plotly) {                    window.PLOTLYENV=window.PLOTLYENV || {};                                    if (document.getElementById(\"61719ecd-a8c8-46af-b7f4-e80c5896a665\")) {                    Plotly.newPlot(                        \"61719ecd-a8c8-46af-b7f4-e80c5896a665\",                        [{\"hovertemplate\":\"\\u003cb\\u003e%{hovertext}\\u003c\\u002fb\\u003e\\u003cbr\\u003e\\u003cbr\\u003eNeighbourhood Group=Bronx\\u003cbr\\u003eYear-Month=%{x}\\u003cbr\\u003eOccupancy Rate=%{y}\\u003cextra\\u003e\\u003c\\u002fextra\\u003e\",\"hovertext\":[\"Bronx\",\"Bronx\",\"Bronx\",\"Bronx\",\"Bronx\",\"Bronx\",\"Bronx\",\"Bronx\",\"Bronx\",\"Bronx\",\"Bronx\",\"Bronx\",\"Bronx\",\"Bronx\",\"Bronx\",\"Bronx\",\"Bronx\",\"Bronx\",\"Bronx\",\"Bronx\",\"Bronx\",\"Bronx\",\"Bronx\",\"Bronx\",\"Bronx\",\"Bronx\",\"Bronx\",\"Bronx\",\"Bronx\",\"Bronx\"],\"legendgroup\":\"Bronx\",\"line\":{\"color\":\"#636efa\",\"dash\":\"solid\"},\"marker\":{\"symbol\":\"circle\"},\"mode\":\"lines\",\"name\":\"Bronx\",\"orientation\":\"v\",\"showlegend\":true,\"x\":[\"2017-01\",\"2017-02\",\"2017-04\",\"2017-05\",\"2017-06\",\"2017-07\",\"2017-08\",\"2017-09\",\"2017-10\",\"2017-11\",\"2017-12\",\"2018-01\",\"2018-02\",\"2018-03\",\"2018-04\",\"2018-05\",\"2018-06\",\"2018-07\",\"2018-08\",\"2018-09\",\"2018-10\",\"2018-11\",\"2018-12\",\"2019-01\",\"2019-02\",\"2019-03\",\"2019-04\",\"2019-05\",\"2019-06\",\"2019-07\"],\"xaxis\":\"x\",\"y\":[0.6449315068493151,1.0,1.0,0.2602739726027397,0.7528767123287671,0.5616438356164384,0.9404109589041096,0.8526027397260274,0.536986301369863,1.0,0.8333333333333334,0.7054794520547946,0.6943248532289629,0.6958904109589041,0.6876712328767123,0.863013698630137,0.7726027397260273,0.7772602739726027,0.7269406392694063,0.5133250311332503,0.6618150684931506,0.7230769230769231,0.6856164383561644,0.4397260273972603,0.44143835616438354,0.42113502935420744,0.4655707762557078,0.42250072865053917,0.49622726251964966,0.516859163756827],\"yaxis\":\"y\",\"type\":\"scatter\"},{\"hovertemplate\":\"\\u003cb\\u003e%{hovertext}\\u003c\\u002fb\\u003e\\u003cbr\\u003e\\u003cbr\\u003eNeighbourhood Group=Brooklyn\\u003cbr\\u003eYear-Month=%{x}\\u003cbr\\u003eOccupancy Rate=%{y}\\u003cextra\\u003e\\u003c\\u002fextra\\u003e\",\"hovertext\":[\"Brooklyn\",\"Brooklyn\",\"Brooklyn\",\"Brooklyn\",\"Brooklyn\",\"Brooklyn\",\"Brooklyn\",\"Brooklyn\",\"Brooklyn\",\"Brooklyn\",\"Brooklyn\",\"Brooklyn\",\"Brooklyn\",\"Brooklyn\",\"Brooklyn\",\"Brooklyn\",\"Brooklyn\",\"Brooklyn\",\"Brooklyn\",\"Brooklyn\",\"Brooklyn\",\"Brooklyn\",\"Brooklyn\",\"Brooklyn\",\"Brooklyn\",\"Brooklyn\",\"Brooklyn\",\"Brooklyn\",\"Brooklyn\",\"Brooklyn\",\"Brooklyn\"],\"legendgroup\":\"Brooklyn\",\"line\":{\"color\":\"#EF553B\",\"dash\":\"solid\"},\"marker\":{\"symbol\":\"circle\"},\"mode\":\"lines\",\"name\":\"Brooklyn\",\"orientation\":\"v\",\"showlegend\":true,\"x\":[\"2017-01\",\"2017-02\",\"2017-03\",\"2017-04\",\"2017-05\",\"2017-06\",\"2017-07\",\"2017-08\",\"2017-09\",\"2017-10\",\"2017-11\",\"2017-12\",\"2018-01\",\"2018-02\",\"2018-03\",\"2018-04\",\"2018-05\",\"2018-06\",\"2018-07\",\"2018-08\",\"2018-09\",\"2018-10\",\"2018-11\",\"2018-12\",\"2019-01\",\"2019-02\",\"2019-03\",\"2019-04\",\"2019-05\",\"2019-06\",\"2019-07\"],\"xaxis\":\"x\",\"y\":[0.911986301369863,0.8556447803495513,0.9074864606562599,0.9198269646719539,0.8957107567931731,0.9588481968129717,0.9118255521386638,0.9111632483160523,0.8704157654409999,0.8702224812979694,0.9285895484525623,0.9552511415525115,0.8968919074479107,0.9160436498723009,0.8402415672411254,0.8737308622078969,0.8283156911581568,0.8546213194772476,0.8420256616872249,0.8113515400052351,0.7838578304331729,0.7039320142059868,0.8043253154999461,0.7884903262251094,0.775190727081138,0.7779742222822054,0.7281845378680523,0.6979105254031559,0.6115737245173121,0.586790191886399,0.595919770281205],\"yaxis\":\"y\",\"type\":\"scatter\"},{\"hovertemplate\":\"\\u003cb\\u003e%{hovertext}\\u003c\\u002fb\\u003e\\u003cbr\\u003e\\u003cbr\\u003eNeighbourhood Group=Manhattan\\u003cbr\\u003eYear-Month=%{x}\\u003cbr\\u003eOccupancy Rate=%{y}\\u003cextra\\u003e\\u003c\\u002fextra\\u003e\",\"hovertext\":[\"Manhattan\",\"Manhattan\",\"Manhattan\",\"Manhattan\",\"Manhattan\",\"Manhattan\",\"Manhattan\",\"Manhattan\",\"Manhattan\",\"Manhattan\",\"Manhattan\",\"Manhattan\",\"Manhattan\",\"Manhattan\",\"Manhattan\",\"Manhattan\",\"Manhattan\",\"Manhattan\",\"Manhattan\",\"Manhattan\",\"Manhattan\",\"Manhattan\",\"Manhattan\",\"Manhattan\",\"Manhattan\",\"Manhattan\",\"Manhattan\",\"Manhattan\",\"Manhattan\",\"Manhattan\",\"Manhattan\"],\"legendgroup\":\"Manhattan\",\"line\":{\"color\":\"#00cc96\",\"dash\":\"solid\"},\"marker\":{\"symbol\":\"circle\"},\"mode\":\"lines\",\"name\":\"Manhattan\",\"orientation\":\"v\",\"showlegend\":true,\"x\":[\"2017-01\",\"2017-02\",\"2017-03\",\"2017-04\",\"2017-05\",\"2017-06\",\"2017-07\",\"2017-08\",\"2017-09\",\"2017-10\",\"2017-11\",\"2017-12\",\"2018-01\",\"2018-02\",\"2018-03\",\"2018-04\",\"2018-05\",\"2018-06\",\"2018-07\",\"2018-08\",\"2018-09\",\"2018-10\",\"2018-11\",\"2018-12\",\"2019-01\",\"2019-02\",\"2019-03\",\"2019-04\",\"2019-05\",\"2019-06\",\"2019-07\"],\"xaxis\":\"x\",\"y\":[0.889598073159717,0.8454794520547945,0.8658630136986301,0.8242557077625571,0.8747234906139016,0.8898456186127418,0.8992847617893078,0.8875261885576148,0.8020128599384959,0.8332117867349955,0.8836861768368618,0.8602739726027397,0.902076198630137,0.8840332360206602,0.8158572021585719,0.8388407417761625,0.7991536971957255,0.80870265914585,0.7758569121253814,0.7567534714105382,0.7437659623868123,0.6596379647749511,0.7416462818003914,0.7341169937060349,0.769105615035766,0.6362777515351913,0.6697475758042173,0.6469854288456505,0.5870456194255964,0.5944664052397522,0.6287259957607011],\"yaxis\":\"y\",\"type\":\"scatter\"},{\"hovertemplate\":\"\\u003cb\\u003e%{hovertext}\\u003c\\u002fb\\u003e\\u003cbr\\u003e\\u003cbr\\u003eNeighbourhood Group=Queens\\u003cbr\\u003eYear-Month=%{x}\\u003cbr\\u003eOccupancy Rate=%{y}\\u003cextra\\u003e\\u003c\\u002fextra\\u003e\",\"hovertext\":[\"Queens\",\"Queens\",\"Queens\",\"Queens\",\"Queens\",\"Queens\",\"Queens\",\"Queens\",\"Queens\",\"Queens\",\"Queens\",\"Queens\",\"Queens\",\"Queens\",\"Queens\",\"Queens\",\"Queens\",\"Queens\",\"Queens\",\"Queens\",\"Queens\",\"Queens\",\"Queens\",\"Queens\",\"Queens\",\"Queens\",\"Queens\",\"Queens\",\"Queens\",\"Queens\",\"Queens\"],\"legendgroup\":\"Queens\",\"line\":{\"color\":\"#ab63fa\",\"dash\":\"solid\"},\"marker\":{\"symbol\":\"circle\"},\"mode\":\"lines\",\"name\":\"Queens\",\"orientation\":\"v\",\"showlegend\":true,\"x\":[\"2017-01\",\"2017-02\",\"2017-03\",\"2017-04\",\"2017-05\",\"2017-06\",\"2017-07\",\"2017-08\",\"2017-09\",\"2017-10\",\"2017-11\",\"2017-12\",\"2018-01\",\"2018-02\",\"2018-03\",\"2018-04\",\"2018-05\",\"2018-06\",\"2018-07\",\"2018-08\",\"2018-09\",\"2018-10\",\"2018-11\",\"2018-12\",\"2019-01\",\"2019-02\",\"2019-03\",\"2019-04\",\"2019-05\",\"2019-06\",\"2019-07\"],\"xaxis\":\"x\",\"y\":[0.9005360333531864,0.6894977168949771,0.7315068493150685,0.7213698630136987,0.642149631190727,0.8812785388127854,0.8674210839785587,0.881552511415525,0.8894520547945206,0.8640313111545989,0.9778082191780821,0.6386052303860523,0.8212328767123287,0.8939936775553214,0.8825831702544031,0.8812785388127854,0.7030948756976154,0.7339144873391449,0.7352022937241159,0.768819308545336,0.6241418211120064,0.5767929089443997,0.6918721461187214,0.7688505062537224,0.7020715001670564,0.7836133367795295,0.6012145177234854,0.6709554361019594,0.5202463239914541,0.4987413376309428,0.4998158438873094],\"yaxis\":\"y\",\"type\":\"scatter\"},{\"hovertemplate\":\"\\u003cb\\u003e%{hovertext}\\u003c\\u002fb\\u003e\\u003cbr\\u003e\\u003cbr\\u003eNeighbourhood Group=Staten Island\\u003cbr\\u003eYear-Month=%{x}\\u003cbr\\u003eOccupancy Rate=%{y}\\u003cextra\\u003e\\u003c\\u002fextra\\u003e\",\"hovertext\":[\"Staten Island\",\"Staten Island\",\"Staten Island\",\"Staten Island\",\"Staten Island\",\"Staten Island\",\"Staten Island\",\"Staten Island\",\"Staten Island\",\"Staten Island\",\"Staten Island\",\"Staten Island\",\"Staten Island\",\"Staten Island\",\"Staten Island\",\"Staten Island\",\"Staten Island\",\"Staten Island\",\"Staten Island\"],\"legendgroup\":\"Staten Island\",\"line\":{\"color\":\"#FFA15A\",\"dash\":\"solid\"},\"marker\":{\"symbol\":\"circle\"},\"mode\":\"lines\",\"name\":\"Staten Island\",\"orientation\":\"v\",\"showlegend\":true,\"x\":[\"2017-01\",\"2017-03\",\"2017-08\",\"2017-09\",\"2018-02\",\"2018-04\",\"2018-07\",\"2018-08\",\"2018-09\",\"2018-10\",\"2018-11\",\"2018-12\",\"2019-01\",\"2019-02\",\"2019-03\",\"2019-04\",\"2019-05\",\"2019-06\",\"2019-07\"],\"xaxis\":\"x\",\"y\":[0.9013698630136986,1.0,0.5041095890410958,1.0,0.7835616438356164,0.7616438356164383,0.6173515981735159,0.828310502283105,0.4786692759295499,0.4316590563165905,0.586910197869102,0.5068493150684932,0.589041095890411,0.3890410958904109,0.07506849315068491,0.3815068493150685,0.35837138508371386,0.4202482876712329,0.4150511531125369],\"yaxis\":\"y\",\"type\":\"scatter\"}],                        {\"template\":{\"data\":{\"histogram2dcontour\":[{\"type\":\"histogram2dcontour\",\"colorbar\":{\"outlinewidth\":0,\"ticks\":\"\"},\"colorscale\":[[0.0,\"#0d0887\"],[0.1111111111111111,\"#46039f\"],[0.2222222222222222,\"#7201a8\"],[0.3333333333333333,\"#9c179e\"],[0.4444444444444444,\"#bd3786\"],[0.5555555555555556,\"#d8576b\"],[0.6666666666666666,\"#ed7953\"],[0.7777777777777778,\"#fb9f3a\"],[0.8888888888888888,\"#fdca26\"],[1.0,\"#f0f921\"]]}],\"choropleth\":[{\"type\":\"choropleth\",\"colorbar\":{\"outlinewidth\":0,\"ticks\":\"\"}}],\"histogram2d\":[{\"type\":\"histogram2d\",\"colorbar\":{\"outlinewidth\":0,\"ticks\":\"\"},\"colorscale\":[[0.0,\"#0d0887\"],[0.1111111111111111,\"#46039f\"],[0.2222222222222222,\"#7201a8\"],[0.3333333333333333,\"#9c179e\"],[0.4444444444444444,\"#bd3786\"],[0.5555555555555556,\"#d8576b\"],[0.6666666666666666,\"#ed7953\"],[0.7777777777777778,\"#fb9f3a\"],[0.8888888888888888,\"#fdca26\"],[1.0,\"#f0f921\"]]}],\"heatmap\":[{\"type\":\"heatmap\",\"colorbar\":{\"outlinewidth\":0,\"ticks\":\"\"},\"colorscale\":[[0.0,\"#0d0887\"],[0.1111111111111111,\"#46039f\"],[0.2222222222222222,\"#7201a8\"],[0.3333333333333333,\"#9c179e\"],[0.4444444444444444,\"#bd3786\"],[0.5555555555555556,\"#d8576b\"],[0.6666666666666666,\"#ed7953\"],[0.7777777777777778,\"#fb9f3a\"],[0.8888888888888888,\"#fdca26\"],[1.0,\"#f0f921\"]]}],\"heatmapgl\":[{\"type\":\"heatmapgl\",\"colorbar\":{\"outlinewidth\":0,\"ticks\":\"\"},\"colorscale\":[[0.0,\"#0d0887\"],[0.1111111111111111,\"#46039f\"],[0.2222222222222222,\"#7201a8\"],[0.3333333333333333,\"#9c179e\"],[0.4444444444444444,\"#bd3786\"],[0.5555555555555556,\"#d8576b\"],[0.6666666666666666,\"#ed7953\"],[0.7777777777777778,\"#fb9f3a\"],[0.8888888888888888,\"#fdca26\"],[1.0,\"#f0f921\"]]}],\"contourcarpet\":[{\"type\":\"contourcarpet\",\"colorbar\":{\"outlinewidth\":0,\"ticks\":\"\"}}],\"contour\":[{\"type\":\"contour\",\"colorbar\":{\"outlinewidth\":0,\"ticks\":\"\"},\"colorscale\":[[0.0,\"#0d0887\"],[0.1111111111111111,\"#46039f\"],[0.2222222222222222,\"#7201a8\"],[0.3333333333333333,\"#9c179e\"],[0.4444444444444444,\"#bd3786\"],[0.5555555555555556,\"#d8576b\"],[0.6666666666666666,\"#ed7953\"],[0.7777777777777778,\"#fb9f3a\"],[0.8888888888888888,\"#fdca26\"],[1.0,\"#f0f921\"]]}],\"surface\":[{\"type\":\"surface\",\"colorbar\":{\"outlinewidth\":0,\"ticks\":\"\"},\"colorscale\":[[0.0,\"#0d0887\"],[0.1111111111111111,\"#46039f\"],[0.2222222222222222,\"#7201a8\"],[0.3333333333333333,\"#9c179e\"],[0.4444444444444444,\"#bd3786\"],[0.5555555555555556,\"#d8576b\"],[0.6666666666666666,\"#ed7953\"],[0.7777777777777778,\"#fb9f3a\"],[0.8888888888888888,\"#fdca26\"],[1.0,\"#f0f921\"]]}],\"mesh3d\":[{\"type\":\"mesh3d\",\"colorbar\":{\"outlinewidth\":0,\"ticks\":\"\"}}],\"scatter\":[{\"fillpattern\":{\"fillmode\":\"overlay\",\"size\":10,\"solidity\":0.2},\"type\":\"scatter\"}],\"parcoords\":[{\"type\":\"parcoords\",\"line\":{\"colorbar\":{\"outlinewidth\":0,\"ticks\":\"\"}}}],\"scatterpolargl\":[{\"type\":\"scatterpolargl\",\"marker\":{\"colorbar\":{\"outlinewidth\":0,\"ticks\":\"\"}}}],\"bar\":[{\"error_x\":{\"color\":\"#2a3f5f\"},\"error_y\":{\"color\":\"#2a3f5f\"},\"marker\":{\"line\":{\"color\":\"#E5ECF6\",\"width\":0.5},\"pattern\":{\"fillmode\":\"overlay\",\"size\":10,\"solidity\":0.2}},\"type\":\"bar\"}],\"scattergeo\":[{\"type\":\"scattergeo\",\"marker\":{\"colorbar\":{\"outlinewidth\":0,\"ticks\":\"\"}}}],\"scatterpolar\":[{\"type\":\"scatterpolar\",\"marker\":{\"colorbar\":{\"outlinewidth\":0,\"ticks\":\"\"}}}],\"histogram\":[{\"marker\":{\"pattern\":{\"fillmode\":\"overlay\",\"size\":10,\"solidity\":0.2}},\"type\":\"histogram\"}],\"scattergl\":[{\"type\":\"scattergl\",\"marker\":{\"colorbar\":{\"outlinewidth\":0,\"ticks\":\"\"}}}],\"scatter3d\":[{\"type\":\"scatter3d\",\"line\":{\"colorbar\":{\"outlinewidth\":0,\"ticks\":\"\"}},\"marker\":{\"colorbar\":{\"outlinewidth\":0,\"ticks\":\"\"}}}],\"scattermapbox\":[{\"type\":\"scattermapbox\",\"marker\":{\"colorbar\":{\"outlinewidth\":0,\"ticks\":\"\"}}}],\"scatterternary\":[{\"type\":\"scatterternary\",\"marker\":{\"colorbar\":{\"outlinewidth\":0,\"ticks\":\"\"}}}],\"scattercarpet\":[{\"type\":\"scattercarpet\",\"marker\":{\"colorbar\":{\"outlinewidth\":0,\"ticks\":\"\"}}}],\"carpet\":[{\"aaxis\":{\"endlinecolor\":\"#2a3f5f\",\"gridcolor\":\"white\",\"linecolor\":\"white\",\"minorgridcolor\":\"white\",\"startlinecolor\":\"#2a3f5f\"},\"baxis\":{\"endlinecolor\":\"#2a3f5f\",\"gridcolor\":\"white\",\"linecolor\":\"white\",\"minorgridcolor\":\"white\",\"startlinecolor\":\"#2a3f5f\"},\"type\":\"carpet\"}],\"table\":[{\"cells\":{\"fill\":{\"color\":\"#EBF0F8\"},\"line\":{\"color\":\"white\"}},\"header\":{\"fill\":{\"color\":\"#C8D4E3\"},\"line\":{\"color\":\"white\"}},\"type\":\"table\"}],\"barpolar\":[{\"marker\":{\"line\":{\"color\":\"#E5ECF6\",\"width\":0.5},\"pattern\":{\"fillmode\":\"overlay\",\"size\":10,\"solidity\":0.2}},\"type\":\"barpolar\"}],\"pie\":[{\"automargin\":true,\"type\":\"pie\"}]},\"layout\":{\"autotypenumbers\":\"strict\",\"colorway\":[\"#636efa\",\"#EF553B\",\"#00cc96\",\"#ab63fa\",\"#FFA15A\",\"#19d3f3\",\"#FF6692\",\"#B6E880\",\"#FF97FF\",\"#FECB52\"],\"font\":{\"color\":\"#2a3f5f\"},\"hovermode\":\"closest\",\"hoverlabel\":{\"align\":\"left\"},\"paper_bgcolor\":\"white\",\"plot_bgcolor\":\"#E5ECF6\",\"polar\":{\"bgcolor\":\"#E5ECF6\",\"angularaxis\":{\"gridcolor\":\"white\",\"linecolor\":\"white\",\"ticks\":\"\"},\"radialaxis\":{\"gridcolor\":\"white\",\"linecolor\":\"white\",\"ticks\":\"\"}},\"ternary\":{\"bgcolor\":\"#E5ECF6\",\"aaxis\":{\"gridcolor\":\"white\",\"linecolor\":\"white\",\"ticks\":\"\"},\"baxis\":{\"gridcolor\":\"white\",\"linecolor\":\"white\",\"ticks\":\"\"},\"caxis\":{\"gridcolor\":\"white\",\"linecolor\":\"white\",\"ticks\":\"\"}},\"coloraxis\":{\"colorbar\":{\"outlinewidth\":0,\"ticks\":\"\"}},\"colorscale\":{\"sequential\":[[0.0,\"#0d0887\"],[0.1111111111111111,\"#46039f\"],[0.2222222222222222,\"#7201a8\"],[0.3333333333333333,\"#9c179e\"],[0.4444444444444444,\"#bd3786\"],[0.5555555555555556,\"#d8576b\"],[0.6666666666666666,\"#ed7953\"],[0.7777777777777778,\"#fb9f3a\"],[0.8888888888888888,\"#fdca26\"],[1.0,\"#f0f921\"]],\"sequentialminus\":[[0.0,\"#0d0887\"],[0.1111111111111111,\"#46039f\"],[0.2222222222222222,\"#7201a8\"],[0.3333333333333333,\"#9c179e\"],[0.4444444444444444,\"#bd3786\"],[0.5555555555555556,\"#d8576b\"],[0.6666666666666666,\"#ed7953\"],[0.7777777777777778,\"#fb9f3a\"],[0.8888888888888888,\"#fdca26\"],[1.0,\"#f0f921\"]],\"diverging\":[[0,\"#8e0152\"],[0.1,\"#c51b7d\"],[0.2,\"#de77ae\"],[0.3,\"#f1b6da\"],[0.4,\"#fde0ef\"],[0.5,\"#f7f7f7\"],[0.6,\"#e6f5d0\"],[0.7,\"#b8e186\"],[0.8,\"#7fbc41\"],[0.9,\"#4d9221\"],[1,\"#276419\"]]},\"xaxis\":{\"gridcolor\":\"white\",\"linecolor\":\"white\",\"ticks\":\"\",\"title\":{\"standoff\":15},\"zerolinecolor\":\"white\",\"automargin\":true,\"zerolinewidth\":2},\"yaxis\":{\"gridcolor\":\"white\",\"linecolor\":\"white\",\"ticks\":\"\",\"title\":{\"standoff\":15},\"zerolinecolor\":\"white\",\"automargin\":true,\"zerolinewidth\":2},\"scene\":{\"xaxis\":{\"backgroundcolor\":\"#E5ECF6\",\"gridcolor\":\"white\",\"linecolor\":\"white\",\"showbackground\":true,\"ticks\":\"\",\"zerolinecolor\":\"white\",\"gridwidth\":2},\"yaxis\":{\"backgroundcolor\":\"#E5ECF6\",\"gridcolor\":\"white\",\"linecolor\":\"white\",\"showbackground\":true,\"ticks\":\"\",\"zerolinecolor\":\"white\",\"gridwidth\":2},\"zaxis\":{\"backgroundcolor\":\"#E5ECF6\",\"gridcolor\":\"white\",\"linecolor\":\"white\",\"showbackground\":true,\"ticks\":\"\",\"zerolinecolor\":\"white\",\"gridwidth\":2}},\"shapedefaults\":{\"line\":{\"color\":\"#2a3f5f\"}},\"annotationdefaults\":{\"arrowcolor\":\"#2a3f5f\",\"arrowhead\":0,\"arrowwidth\":1},\"geo\":{\"bgcolor\":\"white\",\"landcolor\":\"#E5ECF6\",\"subunitcolor\":\"white\",\"showland\":true,\"showlakes\":true,\"lakecolor\":\"white\"},\"title\":{\"x\":0.05},\"mapbox\":{\"style\":\"light\"}}},\"xaxis\":{\"anchor\":\"y\",\"domain\":[0.0,1.0],\"title\":{\"text\":\"Year-Month\"}},\"yaxis\":{\"anchor\":\"x\",\"domain\":[0.0,1.0],\"title\":{\"text\":\"Occupancy Rate\"}},\"legend\":{\"title\":{\"text\":\"Neighbourhood Group\"},\"tracegroupgap\":0},\"title\":{\"text\":\"Monthly Occupancy Rate by Neighborhood Group (Last Three Years)\"}},                        {\"responsive\": true}                    ).then(function(){\n",
       "                            \n",
       "var gd = document.getElementById('61719ecd-a8c8-46af-b7f4-e80c5896a665');\n",
       "var x = new MutationObserver(function (mutations, observer) {{\n",
       "        var display = window.getComputedStyle(gd).display;\n",
       "        if (!display || display === 'none') {{\n",
       "            console.log([gd, 'removed!']);\n",
       "            Plotly.purge(gd);\n",
       "            observer.disconnect();\n",
       "        }}\n",
       "}});\n",
       "\n",
       "// Listen for the removal of the full notebook cells\n",
       "var notebookContainer = gd.closest('#notebook-container');\n",
       "if (notebookContainer) {{\n",
       "    x.observe(notebookContainer, {childList: true});\n",
       "}}\n",
       "\n",
       "// Listen for the clearing of the current output cell\n",
       "var outputEl = gd.closest('.output');\n",
       "if (outputEl) {{\n",
       "    x.observe(outputEl, {childList: true});\n",
       "}}\n",
       "\n",
       "                        })                };                });            </script>        </div>"
      ]
     },
     "metadata": {},
     "output_type": "display_data"
    },
    {
     "data": {
      "text/html": [
       "<div>                            <div id=\"46d74546-3367-406e-9819-08030267fb9c\" class=\"plotly-graph-div\" style=\"height:525px; width:100%;\"></div>            <script type=\"text/javascript\">                require([\"plotly\"], function(Plotly) {                    window.PLOTLYENV=window.PLOTLYENV || {};                                    if (document.getElementById(\"46d74546-3367-406e-9819-08030267fb9c\")) {                    Plotly.newPlot(                        \"46d74546-3367-406e-9819-08030267fb9c\",                        [{\"hovertemplate\":\"\\u003cb\\u003e%{hovertext}\\u003c\\u002fb\\u003e\\u003cbr\\u003e\\u003cbr\\u003eNeighbourhood Group=Bronx\\u003cbr\\u003eYear-Month=%{x}\\u003cbr\\u003eNumber of Listings=%{y}\\u003cextra\\u003e\\u003c\\u002fextra\\u003e\",\"hovertext\":[\"Bronx\",\"Bronx\",\"Bronx\",\"Bronx\",\"Bronx\",\"Bronx\",\"Bronx\",\"Bronx\",\"Bronx\",\"Bronx\",\"Bronx\",\"Bronx\",\"Bronx\",\"Bronx\",\"Bronx\",\"Bronx\",\"Bronx\",\"Bronx\",\"Bronx\",\"Bronx\",\"Bronx\",\"Bronx\",\"Bronx\",\"Bronx\",\"Bronx\",\"Bronx\",\"Bronx\",\"Bronx\",\"Bronx\",\"Bronx\"],\"legendgroup\":\"Bronx\",\"line\":{\"color\":\"#636efa\",\"dash\":\"solid\"},\"marker\":{\"symbol\":\"circle\"},\"mode\":\"lines\",\"name\":\"Bronx\",\"orientation\":\"v\",\"showlegend\":true,\"x\":[\"2017-01\",\"2017-02\",\"2017-04\",\"2017-05\",\"2017-06\",\"2017-07\",\"2017-08\",\"2017-09\",\"2017-10\",\"2017-11\",\"2017-12\",\"2018-01\",\"2018-02\",\"2018-03\",\"2018-04\",\"2018-05\",\"2018-06\",\"2018-07\",\"2018-08\",\"2018-09\",\"2018-10\",\"2018-11\",\"2018-12\",\"2019-01\",\"2019-02\",\"2019-03\",\"2019-04\",\"2019-05\",\"2019-06\",\"2019-07\"],\"xaxis\":\"x\",\"y\":[6,2,4,4,6,14,4,7,4,3,8,18,16,3,9,8,10,19,27,20,27,28,37,74,19,33,81,237,885,293],\"yaxis\":\"y\",\"type\":\"scatter\"},{\"hovertemplate\":\"\\u003cb\\u003e%{hovertext}\\u003c\\u002fb\\u003e\\u003cbr\\u003e\\u003cbr\\u003eNeighbourhood Group=Brooklyn\\u003cbr\\u003eYear-Month=%{x}\\u003cbr\\u003eNumber of Listings=%{y}\\u003cextra\\u003e\\u003c\\u002fextra\\u003e\",\"hovertext\":[\"Brooklyn\",\"Brooklyn\",\"Brooklyn\",\"Brooklyn\",\"Brooklyn\",\"Brooklyn\",\"Brooklyn\",\"Brooklyn\",\"Brooklyn\",\"Brooklyn\",\"Brooklyn\",\"Brooklyn\",\"Brooklyn\",\"Brooklyn\",\"Brooklyn\",\"Brooklyn\",\"Brooklyn\",\"Brooklyn\",\"Brooklyn\",\"Brooklyn\",\"Brooklyn\",\"Brooklyn\",\"Brooklyn\",\"Brooklyn\",\"Brooklyn\",\"Brooklyn\",\"Brooklyn\",\"Brooklyn\",\"Brooklyn\",\"Brooklyn\",\"Brooklyn\"],\"legendgroup\":\"Brooklyn\",\"line\":{\"color\":\"#EF553B\",\"dash\":\"solid\"},\"marker\":{\"symbol\":\"circle\"},\"mode\":\"lines\",\"name\":\"Brooklyn\",\"orientation\":\"v\",\"showlegend\":true,\"x\":[\"2017-01\",\"2017-02\",\"2017-03\",\"2017-04\",\"2017-05\",\"2017-06\",\"2017-07\",\"2017-08\",\"2017-09\",\"2017-10\",\"2017-11\",\"2017-12\",\"2018-01\",\"2018-02\",\"2018-03\",\"2018-04\",\"2018-05\",\"2018-06\",\"2018-07\",\"2018-08\",\"2018-09\",\"2018-10\",\"2018-11\",\"2018-12\",\"2019-01\",\"2019-02\",\"2019-03\",\"2019-04\",\"2019-05\",\"2019-06\",\"2019-07\"],\"xaxis\":\"x\",\"y\":[191,92,52,87,187,129,238,238,367,354,181,255,392,159,209,293,457,251,419,824,734,828,587,717,1334,598,1221,1749,4166,12652,3946],\"yaxis\":\"y\",\"type\":\"scatter\"},{\"hovertemplate\":\"\\u003cb\\u003e%{hovertext}\\u003c\\u002fb\\u003e\\u003cbr\\u003e\\u003cbr\\u003eNeighbourhood Group=Manhattan\\u003cbr\\u003eYear-Month=%{x}\\u003cbr\\u003eNumber of Listings=%{y}\\u003cextra\\u003e\\u003c\\u002fextra\\u003e\",\"hovertext\":[\"Manhattan\",\"Manhattan\",\"Manhattan\",\"Manhattan\",\"Manhattan\",\"Manhattan\",\"Manhattan\",\"Manhattan\",\"Manhattan\",\"Manhattan\",\"Manhattan\",\"Manhattan\",\"Manhattan\",\"Manhattan\",\"Manhattan\",\"Manhattan\",\"Manhattan\",\"Manhattan\",\"Manhattan\",\"Manhattan\",\"Manhattan\",\"Manhattan\",\"Manhattan\",\"Manhattan\",\"Manhattan\",\"Manhattan\",\"Manhattan\",\"Manhattan\",\"Manhattan\",\"Manhattan\",\"Manhattan\"],\"legendgroup\":\"Manhattan\",\"line\":{\"color\":\"#00cc96\",\"dash\":\"solid\"},\"marker\":{\"symbol\":\"circle\"},\"mode\":\"lines\",\"name\":\"Manhattan\",\"orientation\":\"v\",\"showlegend\":true,\"x\":[\"2017-01\",\"2017-02\",\"2017-03\",\"2017-04\",\"2017-05\",\"2017-06\",\"2017-07\",\"2017-08\",\"2017-09\",\"2017-10\",\"2017-11\",\"2017-12\",\"2018-01\",\"2018-02\",\"2018-03\",\"2018-04\",\"2018-05\",\"2018-06\",\"2018-07\",\"2018-08\",\"2018-09\",\"2018-10\",\"2018-11\",\"2018-12\",\"2019-01\",\"2019-02\",\"2019-03\",\"2019-04\",\"2019-05\",\"2019-06\",\"2019-07\"],\"xaxis\":\"x\",\"y\":[663,170,308,698,693,665,827,752,839,858,957,1006,1159,151,870,1137,930,774,1782,2364,1186,2374,2051,2699,5082,3838,4623,6776,23367,67305,3092],\"yaxis\":\"y\",\"type\":\"scatter\"},{\"hovertemplate\":\"\\u003cb\\u003e%{hovertext}\\u003c\\u002fb\\u003e\\u003cbr\\u003e\\u003cbr\\u003eNeighbourhood Group=Queens\\u003cbr\\u003eYear-Month=%{x}\\u003cbr\\u003eNumber of Listings=%{y}\\u003cextra\\u003e\\u003c\\u002fextra\\u003e\",\"hovertext\":[\"Queens\",\"Queens\",\"Queens\",\"Queens\",\"Queens\",\"Queens\",\"Queens\",\"Queens\",\"Queens\",\"Queens\",\"Queens\",\"Queens\",\"Queens\",\"Queens\",\"Queens\",\"Queens\",\"Queens\",\"Queens\",\"Queens\",\"Queens\",\"Queens\",\"Queens\",\"Queens\",\"Queens\",\"Queens\",\"Queens\",\"Queens\",\"Queens\",\"Queens\",\"Queens\",\"Queens\"],\"legendgroup\":\"Queens\",\"line\":{\"color\":\"#ab63fa\",\"dash\":\"solid\"},\"marker\":{\"symbol\":\"circle\"},\"mode\":\"lines\",\"name\":\"Queens\",\"orientation\":\"v\",\"showlegend\":true,\"x\":[\"2017-01\",\"2017-02\",\"2017-03\",\"2017-04\",\"2017-05\",\"2017-06\",\"2017-07\",\"2017-08\",\"2017-09\",\"2017-10\",\"2017-11\",\"2017-12\",\"2018-01\",\"2018-02\",\"2018-03\",\"2018-04\",\"2018-05\",\"2018-06\",\"2018-07\",\"2018-08\",\"2018-09\",\"2018-10\",\"2018-11\",\"2018-12\",\"2019-01\",\"2019-02\",\"2019-03\",\"2019-04\",\"2019-05\",\"2019-06\",\"2019-07\"],\"xaxis\":\"x\",\"y\":[28,8,11,14,61,29,49,76,81,84,26,118,129,20,22,45,50,87,97,110,207,177,213,275,543,369,1011,896,2628,5384,2089],\"yaxis\":\"y\",\"type\":\"scatter\"},{\"hovertemplate\":\"\\u003cb\\u003e%{hovertext}\\u003c\\u002fb\\u003e\\u003cbr\\u003e\\u003cbr\\u003eNeighbourhood Group=Staten Island\\u003cbr\\u003eYear-Month=%{x}\\u003cbr\\u003eNumber of Listings=%{y}\\u003cextra\\u003e\\u003c\\u002fextra\\u003e\",\"hovertext\":[\"Staten Island\",\"Staten Island\",\"Staten Island\",\"Staten Island\",\"Staten Island\",\"Staten Island\",\"Staten Island\",\"Staten Island\",\"Staten Island\",\"Staten Island\",\"Staten Island\",\"Staten Island\",\"Staten Island\",\"Staten Island\",\"Staten Island\",\"Staten Island\",\"Staten Island\",\"Staten Island\",\"Staten Island\"],\"legendgroup\":\"Staten Island\",\"line\":{\"color\":\"#FFA15A\",\"dash\":\"solid\"},\"marker\":{\"symbol\":\"circle\"},\"mode\":\"lines\",\"name\":\"Staten Island\",\"orientation\":\"v\",\"showlegend\":true,\"x\":[\"2017-01\",\"2017-03\",\"2017-08\",\"2017-09\",\"2018-02\",\"2018-04\",\"2018-07\",\"2018-08\",\"2018-09\",\"2018-10\",\"2018-11\",\"2018-12\",\"2019-01\",\"2019-02\",\"2019-03\",\"2019-04\",\"2019-05\",\"2019-06\",\"2019-07\"],\"xaxis\":\"x\",\"y\":[1,2,4,1,2,1,10,5,17,26,23,2,13,6,18,38,100,287,183],\"yaxis\":\"y\",\"type\":\"scatter\"}],                        {\"template\":{\"data\":{\"histogram2dcontour\":[{\"type\":\"histogram2dcontour\",\"colorbar\":{\"outlinewidth\":0,\"ticks\":\"\"},\"colorscale\":[[0.0,\"#0d0887\"],[0.1111111111111111,\"#46039f\"],[0.2222222222222222,\"#7201a8\"],[0.3333333333333333,\"#9c179e\"],[0.4444444444444444,\"#bd3786\"],[0.5555555555555556,\"#d8576b\"],[0.6666666666666666,\"#ed7953\"],[0.7777777777777778,\"#fb9f3a\"],[0.8888888888888888,\"#fdca26\"],[1.0,\"#f0f921\"]]}],\"choropleth\":[{\"type\":\"choropleth\",\"colorbar\":{\"outlinewidth\":0,\"ticks\":\"\"}}],\"histogram2d\":[{\"type\":\"histogram2d\",\"colorbar\":{\"outlinewidth\":0,\"ticks\":\"\"},\"colorscale\":[[0.0,\"#0d0887\"],[0.1111111111111111,\"#46039f\"],[0.2222222222222222,\"#7201a8\"],[0.3333333333333333,\"#9c179e\"],[0.4444444444444444,\"#bd3786\"],[0.5555555555555556,\"#d8576b\"],[0.6666666666666666,\"#ed7953\"],[0.7777777777777778,\"#fb9f3a\"],[0.8888888888888888,\"#fdca26\"],[1.0,\"#f0f921\"]]}],\"heatmap\":[{\"type\":\"heatmap\",\"colorbar\":{\"outlinewidth\":0,\"ticks\":\"\"},\"colorscale\":[[0.0,\"#0d0887\"],[0.1111111111111111,\"#46039f\"],[0.2222222222222222,\"#7201a8\"],[0.3333333333333333,\"#9c179e\"],[0.4444444444444444,\"#bd3786\"],[0.5555555555555556,\"#d8576b\"],[0.6666666666666666,\"#ed7953\"],[0.7777777777777778,\"#fb9f3a\"],[0.8888888888888888,\"#fdca26\"],[1.0,\"#f0f921\"]]}],\"heatmapgl\":[{\"type\":\"heatmapgl\",\"colorbar\":{\"outlinewidth\":0,\"ticks\":\"\"},\"colorscale\":[[0.0,\"#0d0887\"],[0.1111111111111111,\"#46039f\"],[0.2222222222222222,\"#7201a8\"],[0.3333333333333333,\"#9c179e\"],[0.4444444444444444,\"#bd3786\"],[0.5555555555555556,\"#d8576b\"],[0.6666666666666666,\"#ed7953\"],[0.7777777777777778,\"#fb9f3a\"],[0.8888888888888888,\"#fdca26\"],[1.0,\"#f0f921\"]]}],\"contourcarpet\":[{\"type\":\"contourcarpet\",\"colorbar\":{\"outlinewidth\":0,\"ticks\":\"\"}}],\"contour\":[{\"type\":\"contour\",\"colorbar\":{\"outlinewidth\":0,\"ticks\":\"\"},\"colorscale\":[[0.0,\"#0d0887\"],[0.1111111111111111,\"#46039f\"],[0.2222222222222222,\"#7201a8\"],[0.3333333333333333,\"#9c179e\"],[0.4444444444444444,\"#bd3786\"],[0.5555555555555556,\"#d8576b\"],[0.6666666666666666,\"#ed7953\"],[0.7777777777777778,\"#fb9f3a\"],[0.8888888888888888,\"#fdca26\"],[1.0,\"#f0f921\"]]}],\"surface\":[{\"type\":\"surface\",\"colorbar\":{\"outlinewidth\":0,\"ticks\":\"\"},\"colorscale\":[[0.0,\"#0d0887\"],[0.1111111111111111,\"#46039f\"],[0.2222222222222222,\"#7201a8\"],[0.3333333333333333,\"#9c179e\"],[0.4444444444444444,\"#bd3786\"],[0.5555555555555556,\"#d8576b\"],[0.6666666666666666,\"#ed7953\"],[0.7777777777777778,\"#fb9f3a\"],[0.8888888888888888,\"#fdca26\"],[1.0,\"#f0f921\"]]}],\"mesh3d\":[{\"type\":\"mesh3d\",\"colorbar\":{\"outlinewidth\":0,\"ticks\":\"\"}}],\"scatter\":[{\"fillpattern\":{\"fillmode\":\"overlay\",\"size\":10,\"solidity\":0.2},\"type\":\"scatter\"}],\"parcoords\":[{\"type\":\"parcoords\",\"line\":{\"colorbar\":{\"outlinewidth\":0,\"ticks\":\"\"}}}],\"scatterpolargl\":[{\"type\":\"scatterpolargl\",\"marker\":{\"colorbar\":{\"outlinewidth\":0,\"ticks\":\"\"}}}],\"bar\":[{\"error_x\":{\"color\":\"#2a3f5f\"},\"error_y\":{\"color\":\"#2a3f5f\"},\"marker\":{\"line\":{\"color\":\"#E5ECF6\",\"width\":0.5},\"pattern\":{\"fillmode\":\"overlay\",\"size\":10,\"solidity\":0.2}},\"type\":\"bar\"}],\"scattergeo\":[{\"type\":\"scattergeo\",\"marker\":{\"colorbar\":{\"outlinewidth\":0,\"ticks\":\"\"}}}],\"scatterpolar\":[{\"type\":\"scatterpolar\",\"marker\":{\"colorbar\":{\"outlinewidth\":0,\"ticks\":\"\"}}}],\"histogram\":[{\"marker\":{\"pattern\":{\"fillmode\":\"overlay\",\"size\":10,\"solidity\":0.2}},\"type\":\"histogram\"}],\"scattergl\":[{\"type\":\"scattergl\",\"marker\":{\"colorbar\":{\"outlinewidth\":0,\"ticks\":\"\"}}}],\"scatter3d\":[{\"type\":\"scatter3d\",\"line\":{\"colorbar\":{\"outlinewidth\":0,\"ticks\":\"\"}},\"marker\":{\"colorbar\":{\"outlinewidth\":0,\"ticks\":\"\"}}}],\"scattermapbox\":[{\"type\":\"scattermapbox\",\"marker\":{\"colorbar\":{\"outlinewidth\":0,\"ticks\":\"\"}}}],\"scatterternary\":[{\"type\":\"scatterternary\",\"marker\":{\"colorbar\":{\"outlinewidth\":0,\"ticks\":\"\"}}}],\"scattercarpet\":[{\"type\":\"scattercarpet\",\"marker\":{\"colorbar\":{\"outlinewidth\":0,\"ticks\":\"\"}}}],\"carpet\":[{\"aaxis\":{\"endlinecolor\":\"#2a3f5f\",\"gridcolor\":\"white\",\"linecolor\":\"white\",\"minorgridcolor\":\"white\",\"startlinecolor\":\"#2a3f5f\"},\"baxis\":{\"endlinecolor\":\"#2a3f5f\",\"gridcolor\":\"white\",\"linecolor\":\"white\",\"minorgridcolor\":\"white\",\"startlinecolor\":\"#2a3f5f\"},\"type\":\"carpet\"}],\"table\":[{\"cells\":{\"fill\":{\"color\":\"#EBF0F8\"},\"line\":{\"color\":\"white\"}},\"header\":{\"fill\":{\"color\":\"#C8D4E3\"},\"line\":{\"color\":\"white\"}},\"type\":\"table\"}],\"barpolar\":[{\"marker\":{\"line\":{\"color\":\"#E5ECF6\",\"width\":0.5},\"pattern\":{\"fillmode\":\"overlay\",\"size\":10,\"solidity\":0.2}},\"type\":\"barpolar\"}],\"pie\":[{\"automargin\":true,\"type\":\"pie\"}]},\"layout\":{\"autotypenumbers\":\"strict\",\"colorway\":[\"#636efa\",\"#EF553B\",\"#00cc96\",\"#ab63fa\",\"#FFA15A\",\"#19d3f3\",\"#FF6692\",\"#B6E880\",\"#FF97FF\",\"#FECB52\"],\"font\":{\"color\":\"#2a3f5f\"},\"hovermode\":\"closest\",\"hoverlabel\":{\"align\":\"left\"},\"paper_bgcolor\":\"white\",\"plot_bgcolor\":\"#E5ECF6\",\"polar\":{\"bgcolor\":\"#E5ECF6\",\"angularaxis\":{\"gridcolor\":\"white\",\"linecolor\":\"white\",\"ticks\":\"\"},\"radialaxis\":{\"gridcolor\":\"white\",\"linecolor\":\"white\",\"ticks\":\"\"}},\"ternary\":{\"bgcolor\":\"#E5ECF6\",\"aaxis\":{\"gridcolor\":\"white\",\"linecolor\":\"white\",\"ticks\":\"\"},\"baxis\":{\"gridcolor\":\"white\",\"linecolor\":\"white\",\"ticks\":\"\"},\"caxis\":{\"gridcolor\":\"white\",\"linecolor\":\"white\",\"ticks\":\"\"}},\"coloraxis\":{\"colorbar\":{\"outlinewidth\":0,\"ticks\":\"\"}},\"colorscale\":{\"sequential\":[[0.0,\"#0d0887\"],[0.1111111111111111,\"#46039f\"],[0.2222222222222222,\"#7201a8\"],[0.3333333333333333,\"#9c179e\"],[0.4444444444444444,\"#bd3786\"],[0.5555555555555556,\"#d8576b\"],[0.6666666666666666,\"#ed7953\"],[0.7777777777777778,\"#fb9f3a\"],[0.8888888888888888,\"#fdca26\"],[1.0,\"#f0f921\"]],\"sequentialminus\":[[0.0,\"#0d0887\"],[0.1111111111111111,\"#46039f\"],[0.2222222222222222,\"#7201a8\"],[0.3333333333333333,\"#9c179e\"],[0.4444444444444444,\"#bd3786\"],[0.5555555555555556,\"#d8576b\"],[0.6666666666666666,\"#ed7953\"],[0.7777777777777778,\"#fb9f3a\"],[0.8888888888888888,\"#fdca26\"],[1.0,\"#f0f921\"]],\"diverging\":[[0,\"#8e0152\"],[0.1,\"#c51b7d\"],[0.2,\"#de77ae\"],[0.3,\"#f1b6da\"],[0.4,\"#fde0ef\"],[0.5,\"#f7f7f7\"],[0.6,\"#e6f5d0\"],[0.7,\"#b8e186\"],[0.8,\"#7fbc41\"],[0.9,\"#4d9221\"],[1,\"#276419\"]]},\"xaxis\":{\"gridcolor\":\"white\",\"linecolor\":\"white\",\"ticks\":\"\",\"title\":{\"standoff\":15},\"zerolinecolor\":\"white\",\"automargin\":true,\"zerolinewidth\":2},\"yaxis\":{\"gridcolor\":\"white\",\"linecolor\":\"white\",\"ticks\":\"\",\"title\":{\"standoff\":15},\"zerolinecolor\":\"white\",\"automargin\":true,\"zerolinewidth\":2},\"scene\":{\"xaxis\":{\"backgroundcolor\":\"#E5ECF6\",\"gridcolor\":\"white\",\"linecolor\":\"white\",\"showbackground\":true,\"ticks\":\"\",\"zerolinecolor\":\"white\",\"gridwidth\":2},\"yaxis\":{\"backgroundcolor\":\"#E5ECF6\",\"gridcolor\":\"white\",\"linecolor\":\"white\",\"showbackground\":true,\"ticks\":\"\",\"zerolinecolor\":\"white\",\"gridwidth\":2},\"zaxis\":{\"backgroundcolor\":\"#E5ECF6\",\"gridcolor\":\"white\",\"linecolor\":\"white\",\"showbackground\":true,\"ticks\":\"\",\"zerolinecolor\":\"white\",\"gridwidth\":2}},\"shapedefaults\":{\"line\":{\"color\":\"#2a3f5f\"}},\"annotationdefaults\":{\"arrowcolor\":\"#2a3f5f\",\"arrowhead\":0,\"arrowwidth\":1},\"geo\":{\"bgcolor\":\"white\",\"landcolor\":\"#E5ECF6\",\"subunitcolor\":\"white\",\"showland\":true,\"showlakes\":true,\"lakecolor\":\"white\"},\"title\":{\"x\":0.05},\"mapbox\":{\"style\":\"light\"}}},\"xaxis\":{\"anchor\":\"y\",\"domain\":[0.0,1.0],\"title\":{\"text\":\"Year-Month\"}},\"yaxis\":{\"anchor\":\"x\",\"domain\":[0.0,1.0],\"title\":{\"text\":\"Number of Listings\"}},\"legend\":{\"title\":{\"text\":\"Neighbourhood Group\"},\"tracegroupgap\":0},\"title\":{\"text\":\"Monthly Number of Listings by Neighborhood Group (Last Three Years)\"}},                        {\"responsive\": true}                    ).then(function(){\n",
       "                            \n",
       "var gd = document.getElementById('46d74546-3367-406e-9819-08030267fb9c');\n",
       "var x = new MutationObserver(function (mutations, observer) {{\n",
       "        var display = window.getComputedStyle(gd).display;\n",
       "        if (!display || display === 'none') {{\n",
       "            console.log([gd, 'removed!']);\n",
       "            Plotly.purge(gd);\n",
       "            observer.disconnect();\n",
       "        }}\n",
       "}});\n",
       "\n",
       "// Listen for the removal of the full notebook cells\n",
       "var notebookContainer = gd.closest('#notebook-container');\n",
       "if (notebookContainer) {{\n",
       "    x.observe(notebookContainer, {childList: true});\n",
       "}}\n",
       "\n",
       "// Listen for the clearing of the current output cell\n",
       "var outputEl = gd.closest('.output');\n",
       "if (outputEl) {{\n",
       "    x.observe(outputEl, {childList: true});\n",
       "}}\n",
       "\n",
       "                        })                };                });            </script>        </div>"
      ]
     },
     "metadata": {},
     "output_type": "display_data"
    }
   ],
   "source": [
    "last_three_years = monthly_performance['year'].unique()[-3:]\n",
    "monthly_performance_last_three_years = monthly_performance[monthly_performance['year'].isin(last_three_years)]\n",
    "\n",
    "\n",
    "figure_reviews = px.line(\n",
    "    monthly_performance_last_three_years, \n",
    "    x='year_month', \n",
    "    y='reviews_per_month', \n",
    "    color='neighbourhood_group', \n",
    "    line_group='neighbourhood_group',\n",
    "    hover_name='neighbourhood_group', \n",
    "    title='Monthly Number of Reviews by Neighborhood Group (Last Three Years)',\n",
    "    labels={\n",
    "        'year_month': 'Year-Month',\n",
    "        'reviews_per_month': 'Number of Reviews',\n",
    "        'neighbourhood_group': 'Neighbourhood Group'\n",
    "    }\n",
    ")\n",
    "\n",
    "figure_occupancy = px.line(\n",
    "    monthly_performance_last_three_years, \n",
    "    x='year_month', \n",
    "    y='occupancy_rate', \n",
    "    color='neighbourhood_group', \n",
    "    line_group='neighbourhood_group',\n",
    "    hover_name='neighbourhood_group', \n",
    "    title='Monthly Occupancy Rate by Neighborhood Group (Last Three Years)',\n",
    "    labels={\n",
    "        'year_month': 'Year-Month',\n",
    "        'occupancy_rate': 'Occupancy Rate',\n",
    "        'neighbourhood_group': 'Neighbourhood Group'\n",
    "    }\n",
    ")\n",
    "\n",
    "figure_listings = px.line(\n",
    "    monthly_performance_last_three_years, \n",
    "    x='year_month', \n",
    "    y='calculated_host_listings_count', \n",
    "    color='neighbourhood_group', \n",
    "    line_group='neighbourhood_group',\n",
    "    hover_name='neighbourhood_group', \n",
    "    title='Monthly Number of Listings by Neighborhood Group (Last Three Years)',\n",
    "    labels={\n",
    "        'year_month': 'Year-Month',\n",
    "        'calculated_host_listings_count': 'Number of Listings',\n",
    "        'neighbourhood_group': 'Neighbourhood Group'\n",
    "    }\n",
    ")\n",
    "\n",
    "# Show the figures\n",
    "figure_reviews.show()\n",
    "figure_occupancy.show()\n",
    "figure_listings.show()"
   ]
  },
  {
   "cell_type": "markdown",
   "id": "3b9ff172",
   "metadata": {
    "papermill": {
     "duration": 0.020389,
     "end_time": "2024-07-13T15:48:20.297259",
     "exception": false,
     "start_time": "2024-07-13T15:48:20.276870",
     "status": "completed"
    },
    "tags": []
   },
   "source": [
    "So based on the graphs above:\n",
    "\n",
    "**Monthly number of reviews** it was a steady ride up until Apr 2019, Brooklyn and Manhattan had a huge rise and out performed the other groups.\n",
    "\n",
    "**Monthly Occupancy rate** here it was a rollercoaster for all groups but towards the end of 2019 Mnhattan and Brooklyn were taking the lead.\n",
    "\n",
    "**Monthly number of Listing** the same with the number of reviews, there is no notable change until Apr 2019 when Brooklyn and Manhattan started taking the lead again but this time Manhattan had way more listings than Brooklyn.\n",
    "\n",
    "It is safe to say that Manhattan and Brooklyn are showing significant potential for growth. The numbers indicate that they are attracting more tourists than other neighborhoods and also more property owners listing their spaces. Therefore, there is substantial investment potential in these two neighborhood groups."
   ]
  },
  {
   "cell_type": "markdown",
   "id": "49a2f8ad",
   "metadata": {
    "papermill": {
     "duration": 0.01931,
     "end_time": "2024-07-13T15:48:20.336568",
     "exception": false,
     "start_time": "2024-07-13T15:48:20.317258",
     "status": "completed"
    },
    "tags": []
   },
   "source": [
    "# **Step 7: Conclusion**"
   ]
  },
  {
   "cell_type": "markdown",
   "id": "33183863",
   "metadata": {
    "papermill": {
     "duration": 0.020176,
     "end_time": "2024-07-13T15:48:20.376557",
     "exception": false,
     "start_time": "2024-07-13T15:48:20.356381",
     "status": "completed"
    },
    "tags": []
   },
   "source": [
    "Upon Analysing the Airbnb Listings in NewYork city, I arrived to the following conclusions:\n",
    "\n",
    "* **Data Integrity:** A significant portion of the data, particularly in the reviews columns, is missing. Addressing this by either interpolating or dropping these entries is crucial for maintaining the accuracy of the analysis.\n",
    "* **Price Anomalies:** The presence of zero values in the price column and unusually high values in the minimum nights column suggests data cleaning is necessary. Capping values at 365 nights ensures more realistic insights.\n",
    "* **Neighborhood Trends:** Manhattan and Brooklyn stand out as the neighborhoods with the highest average prices and the greatest number of reviews. They show a consistent trend of growth in terms of tourist attraction and property listings.\n",
    "* **Host Performance:** Successful hosts often manage multiple listings, receive a high number of reviews, and have mid-range prices. High occupancy rates indicate that these hosts maintain a well-balanced approach to pricing and availability.\n",
    "* **Room Types:** Entire homes/apartments command the highest prices, highlighting the preference for private accommodations among tourists."
   ]
  },
  {
   "cell_type": "markdown",
   "id": "16189b9c",
   "metadata": {
    "papermill": {
     "duration": 0.019312,
     "end_time": "2024-07-13T15:48:20.416126",
     "exception": false,
     "start_time": "2024-07-13T15:48:20.396814",
     "status": "completed"
    },
    "tags": []
   },
   "source": [
    "# Further Investigation\n",
    "\n",
    "In order to get more insights, the following areas should be investigated:\n",
    "* Missing Data: Conduct a deeper analysis to understand the reasons behind missing values.\n",
    "* Impact of Events: Analyze the impact of major events or holidays on Airbnb listings' performance to identify patterns and opportunities for hosts.\n",
    "* Competitive Analysis: Compare the performance of Airbnb listings with other accommodation options in the same neighborhoods to identify competitive advantages and areas for improvement."
   ]
  }
 ],
 "metadata": {
  "kaggle": {
   "accelerator": "none",
   "dataSources": [
    {
     "datasetId": 268833,
     "sourceId": 611395,
     "sourceType": "datasetVersion"
    }
   ],
   "dockerImageVersionId": 30732,
   "isGpuEnabled": false,
   "isInternetEnabled": true,
   "language": "python",
   "sourceType": "notebook"
  },
  "kernelspec": {
   "display_name": "Python 3",
   "language": "python",
   "name": "python3"
  },
  "language_info": {
   "codemirror_mode": {
    "name": "ipython",
    "version": 3
   },
   "file_extension": ".py",
   "mimetype": "text/x-python",
   "name": "python",
   "nbconvert_exporter": "python",
   "pygments_lexer": "ipython3",
   "version": "3.10.13"
  },
  "papermill": {
   "default_parameters": {},
   "duration": 13.644828,
   "end_time": "2024-07-13T15:48:21.157266",
   "environment_variables": {},
   "exception": null,
   "input_path": "__notebook__.ipynb",
   "output_path": "__notebook__.ipynb",
   "parameters": {},
   "start_time": "2024-07-13T15:48:07.512438",
   "version": "2.5.0"
  }
 },
 "nbformat": 4,
 "nbformat_minor": 5
}
